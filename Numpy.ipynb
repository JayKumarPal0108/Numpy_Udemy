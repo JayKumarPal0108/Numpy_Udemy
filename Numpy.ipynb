{
 "cells": [
  {
   "cell_type": "markdown",
   "id": "964c327c",
   "metadata": {},
   "source": [
    "# Numpy\n",
    "\n",
    "## 1. Array\n",
    "## 2. 1D,2D,3D Array\n"
   ]
  },
  {
   "cell_type": "code",
   "execution_count": 1,
   "id": "454efa79",
   "metadata": {},
   "outputs": [],
   "source": [
    "import numpy as np"
   ]
  },
  {
   "cell_type": "code",
   "execution_count": 2,
   "id": "7e82c326",
   "metadata": {},
   "outputs": [],
   "source": [
    "A1 = np.array([1,2,3,4])"
   ]
  },
  {
   "cell_type": "code",
   "execution_count": 3,
   "id": "976406d4",
   "metadata": {},
   "outputs": [
    {
     "data": {
      "text/plain": [
       "array([1, 2, 3, 4])"
      ]
     },
     "execution_count": 3,
     "metadata": {},
     "output_type": "execute_result"
    }
   ],
   "source": [
    "A1"
   ]
  },
  {
   "cell_type": "code",
   "execution_count": 4,
   "id": "9f0790be",
   "metadata": {},
   "outputs": [
    {
     "name": "stdout",
     "output_type": "stream",
     "text": [
      "[1 2 3 4]\n"
     ]
    }
   ],
   "source": [
    "print(A1)"
   ]
  },
  {
   "cell_type": "code",
   "execution_count": 5,
   "id": "bbee52a7",
   "metadata": {},
   "outputs": [
    {
     "data": {
      "text/plain": [
       "numpy.ndarray"
      ]
     },
     "execution_count": 5,
     "metadata": {},
     "output_type": "execute_result"
    }
   ],
   "source": [
    "type(A1)"
   ]
  },
  {
   "cell_type": "code",
   "execution_count": 6,
   "id": "ca217445",
   "metadata": {},
   "outputs": [
    {
     "data": {
      "text/plain": [
       "(4,)"
      ]
     },
     "execution_count": 6,
     "metadata": {},
     "output_type": "execute_result"
    }
   ],
   "source": [
    "A1.shape"
   ]
  },
  {
   "cell_type": "code",
   "execution_count": 7,
   "id": "cc36fed9",
   "metadata": {},
   "outputs": [
    {
     "data": {
      "text/plain": [
       "4"
      ]
     },
     "execution_count": 7,
     "metadata": {},
     "output_type": "execute_result"
    }
   ],
   "source": [
    "A1.size"
   ]
  },
  {
   "cell_type": "code",
   "execution_count": 8,
   "id": "cd37e48c",
   "metadata": {},
   "outputs": [
    {
     "data": {
      "text/plain": [
       "1"
      ]
     },
     "execution_count": 8,
     "metadata": {},
     "output_type": "execute_result"
    }
   ],
   "source": [
    "A1.ndim"
   ]
  },
  {
   "cell_type": "code",
   "execution_count": 9,
   "id": "f5d5a4bc",
   "metadata": {},
   "outputs": [
    {
     "data": {
      "text/plain": [
       "4"
      ]
     },
     "execution_count": 9,
     "metadata": {},
     "output_type": "execute_result"
    }
   ],
   "source": [
    "len(A1)"
   ]
  },
  {
   "cell_type": "markdown",
   "id": "f910f56f",
   "metadata": {},
   "source": [
    "-------------------"
   ]
  },
  {
   "cell_type": "code",
   "execution_count": 10,
   "id": "acc26451",
   "metadata": {},
   "outputs": [],
   "source": [
    "A2 = np.array([[1,2,3,4],[5,6,7,8]])"
   ]
  },
  {
   "cell_type": "code",
   "execution_count": 11,
   "id": "3e498465",
   "metadata": {},
   "outputs": [
    {
     "data": {
      "text/plain": [
       "array([[1, 2, 3, 4],\n",
       "       [5, 6, 7, 8]])"
      ]
     },
     "execution_count": 11,
     "metadata": {},
     "output_type": "execute_result"
    }
   ],
   "source": [
    "A2"
   ]
  },
  {
   "cell_type": "code",
   "execution_count": 12,
   "id": "48df6929",
   "metadata": {},
   "outputs": [
    {
     "name": "stdout",
     "output_type": "stream",
     "text": [
      "[[1 2 3 4]\n",
      " [5 6 7 8]]\n"
     ]
    }
   ],
   "source": [
    "print(A2)"
   ]
  },
  {
   "cell_type": "code",
   "execution_count": 13,
   "id": "26711652",
   "metadata": {},
   "outputs": [
    {
     "data": {
      "text/plain": [
       "numpy.ndarray"
      ]
     },
     "execution_count": 13,
     "metadata": {},
     "output_type": "execute_result"
    }
   ],
   "source": [
    "type(A2)"
   ]
  },
  {
   "cell_type": "code",
   "execution_count": 14,
   "id": "7191bbd8",
   "metadata": {},
   "outputs": [
    {
     "data": {
      "text/plain": [
       "(2, 4)"
      ]
     },
     "execution_count": 14,
     "metadata": {},
     "output_type": "execute_result"
    }
   ],
   "source": [
    "A2.shape"
   ]
  },
  {
   "cell_type": "code",
   "execution_count": 15,
   "id": "0e5bb0eb",
   "metadata": {},
   "outputs": [
    {
     "data": {
      "text/plain": [
       "8"
      ]
     },
     "execution_count": 15,
     "metadata": {},
     "output_type": "execute_result"
    }
   ],
   "source": [
    "A2.size"
   ]
  },
  {
   "cell_type": "code",
   "execution_count": 16,
   "id": "b8741ece",
   "metadata": {},
   "outputs": [
    {
     "data": {
      "text/plain": [
       "2"
      ]
     },
     "execution_count": 16,
     "metadata": {},
     "output_type": "execute_result"
    }
   ],
   "source": [
    "A2.ndim"
   ]
  },
  {
   "cell_type": "code",
   "execution_count": 17,
   "id": "71e614f9",
   "metadata": {},
   "outputs": [
    {
     "data": {
      "text/plain": [
       "2"
      ]
     },
     "execution_count": 17,
     "metadata": {},
     "output_type": "execute_result"
    }
   ],
   "source": [
    "len(A2)"
   ]
  },
  {
   "cell_type": "code",
   "execution_count": 18,
   "id": "08c03828",
   "metadata": {},
   "outputs": [
    {
     "data": {
      "text/plain": [
       "1"
      ]
     },
     "execution_count": 18,
     "metadata": {},
     "output_type": "execute_result"
    }
   ],
   "source": [
    "A1.ndim"
   ]
  },
  {
   "cell_type": "markdown",
   "id": "db72bb36",
   "metadata": {},
   "source": [
    "---------"
   ]
  },
  {
   "cell_type": "code",
   "execution_count": 19,
   "id": "5c6d78e3",
   "metadata": {},
   "outputs": [],
   "source": [
    "a3 = np.array([[[1,2,3,4],[5,6,7,8],[9,10,11,12]]])"
   ]
  },
  {
   "cell_type": "code",
   "execution_count": 20,
   "id": "0fe2288e",
   "metadata": {},
   "outputs": [
    {
     "data": {
      "text/plain": [
       "array([[[ 1,  2,  3,  4],\n",
       "        [ 5,  6,  7,  8],\n",
       "        [ 9, 10, 11, 12]]])"
      ]
     },
     "execution_count": 20,
     "metadata": {},
     "output_type": "execute_result"
    }
   ],
   "source": [
    "a3"
   ]
  },
  {
   "cell_type": "code",
   "execution_count": 21,
   "id": "8a3fa3ff",
   "metadata": {},
   "outputs": [
    {
     "name": "stdout",
     "output_type": "stream",
     "text": [
      "[[[ 1  2  3  4]\n",
      "  [ 5  6  7  8]\n",
      "  [ 9 10 11 12]]]\n"
     ]
    }
   ],
   "source": [
    "print(a3)"
   ]
  },
  {
   "cell_type": "code",
   "execution_count": 22,
   "id": "7a748dde",
   "metadata": {},
   "outputs": [
    {
     "data": {
      "text/plain": [
       "3"
      ]
     },
     "execution_count": 22,
     "metadata": {},
     "output_type": "execute_result"
    }
   ],
   "source": [
    "a3.ndim"
   ]
  },
  {
   "cell_type": "code",
   "execution_count": 23,
   "id": "0699094a",
   "metadata": {},
   "outputs": [
    {
     "data": {
      "text/plain": [
       "numpy.ndarray"
      ]
     },
     "execution_count": 23,
     "metadata": {},
     "output_type": "execute_result"
    }
   ],
   "source": [
    "type(a3)"
   ]
  },
  {
   "cell_type": "code",
   "execution_count": 24,
   "id": "21bd5f45",
   "metadata": {},
   "outputs": [
    {
     "data": {
      "text/plain": [
       "(1, 3, 4)"
      ]
     },
     "execution_count": 24,
     "metadata": {},
     "output_type": "execute_result"
    }
   ],
   "source": [
    "a3.shape"
   ]
  },
  {
   "cell_type": "code",
   "execution_count": 25,
   "id": "b4b1a1ac",
   "metadata": {},
   "outputs": [
    {
     "data": {
      "text/plain": [
       "12"
      ]
     },
     "execution_count": 25,
     "metadata": {},
     "output_type": "execute_result"
    }
   ],
   "source": [
    "a3.size"
   ]
  },
  {
   "cell_type": "code",
   "execution_count": 26,
   "id": "47afb5a2",
   "metadata": {},
   "outputs": [
    {
     "data": {
      "text/plain": [
       "1"
      ]
     },
     "execution_count": 26,
     "metadata": {},
     "output_type": "execute_result"
    }
   ],
   "source": [
    "len(a3)"
   ]
  },
  {
   "cell_type": "markdown",
   "id": "404a3c9d",
   "metadata": {},
   "source": [
    "---------------------"
   ]
  },
  {
   "cell_type": "markdown",
   "id": "58f01c8f",
   "metadata": {},
   "source": [
    "# Zeros Array - An array in which all values are 0.\n",
    "\n",
    "### ZA = np.zeros(shape, dtype)\n",
    "\n",
    "- We can define the shape and data-type of zeros array.\n",
    "- We can create 1-D, 2-D, as well 3-D zeros array.\n",
    "- The default data-type is float.\n",
    "\n",
    "* ndim - to check the dimension of the array\n",
    "* shape - to check the shape of the array\n",
    "* size - to check the size of the array"
   ]
  },
  {
   "cell_type": "code",
   "execution_count": 27,
   "id": "d6649417",
   "metadata": {},
   "outputs": [],
   "source": [
    "z1 = np.zeros(3)"
   ]
  },
  {
   "cell_type": "code",
   "execution_count": 28,
   "id": "7f29e98f",
   "metadata": {},
   "outputs": [
    {
     "data": {
      "text/plain": [
       "array([0., 0., 0.])"
      ]
     },
     "execution_count": 28,
     "metadata": {},
     "output_type": "execute_result"
    }
   ],
   "source": [
    "z1 "
   ]
  },
  {
   "cell_type": "code",
   "execution_count": 29,
   "id": "130e5639",
   "metadata": {},
   "outputs": [
    {
     "name": "stdout",
     "output_type": "stream",
     "text": [
      "[0. 0. 0.]\n"
     ]
    }
   ],
   "source": [
    "print(z1)"
   ]
  },
  {
   "cell_type": "code",
   "execution_count": 30,
   "id": "738e3bb8",
   "metadata": {},
   "outputs": [],
   "source": [
    "z1 = np.zeros(5, dtype = int)"
   ]
  },
  {
   "cell_type": "code",
   "execution_count": 31,
   "id": "b9f8dc4c",
   "metadata": {},
   "outputs": [
    {
     "data": {
      "text/plain": [
       "array([0, 0, 0, 0, 0])"
      ]
     },
     "execution_count": 31,
     "metadata": {},
     "output_type": "execute_result"
    }
   ],
   "source": [
    "z1"
   ]
  },
  {
   "cell_type": "code",
   "execution_count": 32,
   "id": "74d8d790",
   "metadata": {},
   "outputs": [
    {
     "name": "stdout",
     "output_type": "stream",
     "text": [
      "[0 0 0 0 0]\n"
     ]
    }
   ],
   "source": [
    "print(z1)"
   ]
  },
  {
   "cell_type": "code",
   "execution_count": 33,
   "id": "07811885",
   "metadata": {},
   "outputs": [
    {
     "data": {
      "text/plain": [
       "numpy.ndarray"
      ]
     },
     "execution_count": 33,
     "metadata": {},
     "output_type": "execute_result"
    }
   ],
   "source": [
    "type(z1)"
   ]
  },
  {
   "cell_type": "code",
   "execution_count": 34,
   "id": "9e1405ba",
   "metadata": {},
   "outputs": [
    {
     "data": {
      "text/plain": [
       "1"
      ]
     },
     "execution_count": 34,
     "metadata": {},
     "output_type": "execute_result"
    }
   ],
   "source": [
    "z1.ndim"
   ]
  },
  {
   "cell_type": "code",
   "execution_count": 35,
   "id": "a6e46a9b",
   "metadata": {},
   "outputs": [
    {
     "data": {
      "text/plain": [
       "1"
      ]
     },
     "execution_count": 35,
     "metadata": {},
     "output_type": "execute_result"
    }
   ],
   "source": [
    "np.ndim(z1)"
   ]
  },
  {
   "cell_type": "markdown",
   "id": "d3f22907",
   "metadata": {},
   "source": [
    "---------------"
   ]
  },
  {
   "cell_type": "code",
   "execution_count": 36,
   "id": "2aa8485e",
   "metadata": {},
   "outputs": [],
   "source": [
    "z2 = np.zeros((3,4))"
   ]
  },
  {
   "cell_type": "code",
   "execution_count": 37,
   "id": "f4e2532e",
   "metadata": {},
   "outputs": [
    {
     "data": {
      "text/plain": [
       "array([[0., 0., 0., 0.],\n",
       "       [0., 0., 0., 0.],\n",
       "       [0., 0., 0., 0.]])"
      ]
     },
     "execution_count": 37,
     "metadata": {},
     "output_type": "execute_result"
    }
   ],
   "source": [
    "z2"
   ]
  },
  {
   "cell_type": "code",
   "execution_count": 38,
   "id": "71735c72",
   "metadata": {},
   "outputs": [
    {
     "name": "stdout",
     "output_type": "stream",
     "text": [
      "[[0. 0. 0. 0.]\n",
      " [0. 0. 0. 0.]\n",
      " [0. 0. 0. 0.]]\n"
     ]
    }
   ],
   "source": [
    "print(z2)"
   ]
  },
  {
   "cell_type": "code",
   "execution_count": 39,
   "id": "3a57d820",
   "metadata": {},
   "outputs": [],
   "source": [
    "z2 = np.zeros((3,4), dtype = int)"
   ]
  },
  {
   "cell_type": "code",
   "execution_count": 40,
   "id": "6df8117e",
   "metadata": {},
   "outputs": [
    {
     "data": {
      "text/plain": [
       "array([[0, 0, 0, 0],\n",
       "       [0, 0, 0, 0],\n",
       "       [0, 0, 0, 0]])"
      ]
     },
     "execution_count": 40,
     "metadata": {},
     "output_type": "execute_result"
    }
   ],
   "source": [
    "z2"
   ]
  },
  {
   "cell_type": "code",
   "execution_count": 41,
   "id": "19af8099",
   "metadata": {},
   "outputs": [
    {
     "name": "stdout",
     "output_type": "stream",
     "text": [
      "[[0 0 0 0]\n",
      " [0 0 0 0]\n",
      " [0 0 0 0]]\n"
     ]
    }
   ],
   "source": [
    "print(z2)"
   ]
  },
  {
   "cell_type": "code",
   "execution_count": 42,
   "id": "05038196",
   "metadata": {},
   "outputs": [
    {
     "data": {
      "text/plain": [
       "(3, 4)"
      ]
     },
     "execution_count": 42,
     "metadata": {},
     "output_type": "execute_result"
    }
   ],
   "source": [
    "z2.shape"
   ]
  },
  {
   "cell_type": "code",
   "execution_count": 43,
   "id": "9d0ef1aa",
   "metadata": {},
   "outputs": [
    {
     "data": {
      "text/plain": [
       "12"
      ]
     },
     "execution_count": 43,
     "metadata": {},
     "output_type": "execute_result"
    }
   ],
   "source": [
    "z2.size"
   ]
  },
  {
   "cell_type": "code",
   "execution_count": 44,
   "id": "f257ea12",
   "metadata": {},
   "outputs": [
    {
     "data": {
      "text/plain": [
       "3"
      ]
     },
     "execution_count": 44,
     "metadata": {},
     "output_type": "execute_result"
    }
   ],
   "source": [
    "len(z2)"
   ]
  },
  {
   "cell_type": "markdown",
   "id": "f4dd4d99",
   "metadata": {},
   "source": [
    "-------------"
   ]
  },
  {
   "cell_type": "code",
   "execution_count": 45,
   "id": "4ee92d9a",
   "metadata": {},
   "outputs": [],
   "source": [
    "z3 = np.zeros((2,3,4))"
   ]
  },
  {
   "cell_type": "code",
   "execution_count": 46,
   "id": "d874d7fc",
   "metadata": {},
   "outputs": [
    {
     "data": {
      "text/plain": [
       "array([[[0., 0., 0., 0.],\n",
       "        [0., 0., 0., 0.],\n",
       "        [0., 0., 0., 0.]],\n",
       "\n",
       "       [[0., 0., 0., 0.],\n",
       "        [0., 0., 0., 0.],\n",
       "        [0., 0., 0., 0.]]])"
      ]
     },
     "execution_count": 46,
     "metadata": {},
     "output_type": "execute_result"
    }
   ],
   "source": [
    "z3"
   ]
  },
  {
   "cell_type": "code",
   "execution_count": 47,
   "id": "15439e62",
   "metadata": {},
   "outputs": [
    {
     "name": "stdout",
     "output_type": "stream",
     "text": [
      "[[[0. 0. 0. 0.]\n",
      "  [0. 0. 0. 0.]\n",
      "  [0. 0. 0. 0.]]\n",
      "\n",
      " [[0. 0. 0. 0.]\n",
      "  [0. 0. 0. 0.]\n",
      "  [0. 0. 0. 0.]]]\n"
     ]
    }
   ],
   "source": [
    "print(z3)"
   ]
  },
  {
   "cell_type": "code",
   "execution_count": 48,
   "id": "9c351346",
   "metadata": {},
   "outputs": [],
   "source": [
    "z3 = np.zeros((2,3,4), dtype = int)"
   ]
  },
  {
   "cell_type": "code",
   "execution_count": 49,
   "id": "2738f9f3",
   "metadata": {},
   "outputs": [
    {
     "data": {
      "text/plain": [
       "array([[[0, 0, 0, 0],\n",
       "        [0, 0, 0, 0],\n",
       "        [0, 0, 0, 0]],\n",
       "\n",
       "       [[0, 0, 0, 0],\n",
       "        [0, 0, 0, 0],\n",
       "        [0, 0, 0, 0]]])"
      ]
     },
     "execution_count": 49,
     "metadata": {},
     "output_type": "execute_result"
    }
   ],
   "source": [
    "z3"
   ]
  },
  {
   "cell_type": "code",
   "execution_count": 50,
   "id": "210473f3",
   "metadata": {},
   "outputs": [
    {
     "name": "stdout",
     "output_type": "stream",
     "text": [
      "[[[0 0 0 0]\n",
      "  [0 0 0 0]\n",
      "  [0 0 0 0]]\n",
      "\n",
      " [[0 0 0 0]\n",
      "  [0 0 0 0]\n",
      "  [0 0 0 0]]]\n"
     ]
    }
   ],
   "source": [
    "print(z3)"
   ]
  },
  {
   "cell_type": "code",
   "execution_count": 51,
   "id": "099b5f35",
   "metadata": {},
   "outputs": [
    {
     "data": {
      "text/plain": [
       "3"
      ]
     },
     "execution_count": 51,
     "metadata": {},
     "output_type": "execute_result"
    }
   ],
   "source": [
    "z3.ndim"
   ]
  },
  {
   "cell_type": "code",
   "execution_count": 52,
   "id": "04577251",
   "metadata": {},
   "outputs": [
    {
     "data": {
      "text/plain": [
       "24"
      ]
     },
     "execution_count": 52,
     "metadata": {},
     "output_type": "execute_result"
    }
   ],
   "source": [
    "z3.size"
   ]
  },
  {
   "cell_type": "code",
   "execution_count": 53,
   "id": "b550e084",
   "metadata": {},
   "outputs": [
    {
     "data": {
      "text/plain": [
       "2"
      ]
     },
     "execution_count": 53,
     "metadata": {},
     "output_type": "execute_result"
    }
   ],
   "source": [
    "len(z3)"
   ]
  },
  {
   "cell_type": "code",
   "execution_count": 54,
   "id": "21bd2465",
   "metadata": {},
   "outputs": [
    {
     "data": {
      "text/plain": [
       "(2, 3, 4)"
      ]
     },
     "execution_count": 54,
     "metadata": {},
     "output_type": "execute_result"
    }
   ],
   "source": [
    "z3.shape"
   ]
  },
  {
   "cell_type": "markdown",
   "id": "32c83f8c",
   "metadata": {},
   "source": [
    "----------------"
   ]
  },
  {
   "cell_type": "markdown",
   "id": "2cd21a72",
   "metadata": {},
   "source": [
    "# Ones Array - An array in which all values are 1.\n",
    "\n",
    "### A = np.ones(shape, dtype)\n",
    "\n",
    "- We can define the shape and data-type of ones array.\n",
    "- We can create 1-D, 2-D, as well 3-D ones array.\n",
    "- The default data-type is float.\n",
    "\n",
    "* ndim - to check the dimension of the array\n",
    "* shape - to check the shape of the array\n",
    "* size - to check the size of the array"
   ]
  },
  {
   "cell_type": "code",
   "execution_count": 55,
   "id": "632be044",
   "metadata": {},
   "outputs": [
    {
     "data": {
      "text/plain": [
       "array([1., 1., 1.])"
      ]
     },
     "execution_count": 55,
     "metadata": {},
     "output_type": "execute_result"
    }
   ],
   "source": [
    "np.ones(3)"
   ]
  },
  {
   "cell_type": "code",
   "execution_count": 56,
   "id": "eda8839e",
   "metadata": {},
   "outputs": [],
   "source": [
    "q1 = np.ones(3, dtype = int)"
   ]
  },
  {
   "cell_type": "code",
   "execution_count": 57,
   "id": "b2b0b105",
   "metadata": {},
   "outputs": [
    {
     "data": {
      "text/plain": [
       "array([1, 1, 1])"
      ]
     },
     "execution_count": 57,
     "metadata": {},
     "output_type": "execute_result"
    }
   ],
   "source": [
    "q1"
   ]
  },
  {
   "cell_type": "code",
   "execution_count": 58,
   "id": "c4a46b6e",
   "metadata": {},
   "outputs": [
    {
     "name": "stdout",
     "output_type": "stream",
     "text": [
      "[1 1 1]\n"
     ]
    }
   ],
   "source": [
    "print(q1)"
   ]
  },
  {
   "cell_type": "code",
   "execution_count": 59,
   "id": "6a99c1fb",
   "metadata": {},
   "outputs": [
    {
     "data": {
      "text/plain": [
       "(3,)"
      ]
     },
     "execution_count": 59,
     "metadata": {},
     "output_type": "execute_result"
    }
   ],
   "source": [
    "q1.shape"
   ]
  },
  {
   "cell_type": "code",
   "execution_count": 60,
   "id": "1a2b0689",
   "metadata": {},
   "outputs": [
    {
     "data": {
      "text/plain": [
       "1"
      ]
     },
     "execution_count": 60,
     "metadata": {},
     "output_type": "execute_result"
    }
   ],
   "source": [
    "q1.ndim"
   ]
  },
  {
   "cell_type": "code",
   "execution_count": 61,
   "id": "9450244e",
   "metadata": {},
   "outputs": [
    {
     "data": {
      "text/plain": [
       "1"
      ]
     },
     "execution_count": 61,
     "metadata": {},
     "output_type": "execute_result"
    }
   ],
   "source": [
    "np.ndim(q1)"
   ]
  },
  {
   "cell_type": "code",
   "execution_count": 62,
   "id": "00d770c9",
   "metadata": {},
   "outputs": [
    {
     "data": {
      "text/plain": [
       "numpy.ndarray"
      ]
     },
     "execution_count": 62,
     "metadata": {},
     "output_type": "execute_result"
    }
   ],
   "source": [
    "type(q1)"
   ]
  },
  {
   "cell_type": "code",
   "execution_count": 63,
   "id": "026199f3",
   "metadata": {},
   "outputs": [
    {
     "data": {
      "text/plain": [
       "3"
      ]
     },
     "execution_count": 63,
     "metadata": {},
     "output_type": "execute_result"
    }
   ],
   "source": [
    "q1.size"
   ]
  },
  {
   "cell_type": "code",
   "execution_count": 64,
   "id": "92612041",
   "metadata": {},
   "outputs": [
    {
     "data": {
      "text/plain": [
       "3"
      ]
     },
     "execution_count": 64,
     "metadata": {},
     "output_type": "execute_result"
    }
   ],
   "source": [
    "len(q1)"
   ]
  },
  {
   "cell_type": "markdown",
   "id": "104701af",
   "metadata": {},
   "source": [
    "-----------------"
   ]
  },
  {
   "cell_type": "code",
   "execution_count": 65,
   "id": "1badd56a",
   "metadata": {},
   "outputs": [
    {
     "data": {
      "text/plain": [
       "array([[1., 1., 1.],\n",
       "       [1., 1., 1.]])"
      ]
     },
     "execution_count": 65,
     "metadata": {},
     "output_type": "execute_result"
    }
   ],
   "source": [
    "np.ones((2,3))"
   ]
  },
  {
   "cell_type": "code",
   "execution_count": 66,
   "id": "450b793a",
   "metadata": {},
   "outputs": [],
   "source": [
    "q2 = np.ones((2,3), dtype = int)"
   ]
  },
  {
   "cell_type": "code",
   "execution_count": 67,
   "id": "deef8e06",
   "metadata": {},
   "outputs": [
    {
     "data": {
      "text/plain": [
       "array([[1, 1, 1],\n",
       "       [1, 1, 1]])"
      ]
     },
     "execution_count": 67,
     "metadata": {},
     "output_type": "execute_result"
    }
   ],
   "source": [
    "q2"
   ]
  },
  {
   "cell_type": "code",
   "execution_count": 68,
   "id": "677d32b3",
   "metadata": {},
   "outputs": [
    {
     "name": "stdout",
     "output_type": "stream",
     "text": [
      "[[1 1 1]\n",
      " [1 1 1]]\n"
     ]
    }
   ],
   "source": [
    "print(q2)"
   ]
  },
  {
   "cell_type": "code",
   "execution_count": 69,
   "id": "a942d359",
   "metadata": {},
   "outputs": [
    {
     "data": {
      "text/plain": [
       "(2, 3)"
      ]
     },
     "execution_count": 69,
     "metadata": {},
     "output_type": "execute_result"
    }
   ],
   "source": [
    "q2.shape"
   ]
  },
  {
   "cell_type": "code",
   "execution_count": 70,
   "id": "fe34b6f6",
   "metadata": {},
   "outputs": [
    {
     "data": {
      "text/plain": [
       "2"
      ]
     },
     "execution_count": 70,
     "metadata": {},
     "output_type": "execute_result"
    }
   ],
   "source": [
    "q2.ndim"
   ]
  },
  {
   "cell_type": "code",
   "execution_count": 71,
   "id": "df45c218",
   "metadata": {},
   "outputs": [
    {
     "data": {
      "text/plain": [
       "6"
      ]
     },
     "execution_count": 71,
     "metadata": {},
     "output_type": "execute_result"
    }
   ],
   "source": [
    "q2.size"
   ]
  },
  {
   "cell_type": "code",
   "execution_count": 72,
   "id": "713d1eab",
   "metadata": {},
   "outputs": [
    {
     "data": {
      "text/plain": [
       "2"
      ]
     },
     "execution_count": 72,
     "metadata": {},
     "output_type": "execute_result"
    }
   ],
   "source": [
    "len(q2)"
   ]
  },
  {
   "cell_type": "markdown",
   "id": "bda2a066",
   "metadata": {},
   "source": [
    "----------------"
   ]
  },
  {
   "cell_type": "code",
   "execution_count": 73,
   "id": "34964771",
   "metadata": {},
   "outputs": [
    {
     "data": {
      "text/plain": [
       "array([[[1., 1., 1., 1.],\n",
       "        [1., 1., 1., 1.],\n",
       "        [1., 1., 1., 1.]],\n",
       "\n",
       "       [[1., 1., 1., 1.],\n",
       "        [1., 1., 1., 1.],\n",
       "        [1., 1., 1., 1.]]])"
      ]
     },
     "execution_count": 73,
     "metadata": {},
     "output_type": "execute_result"
    }
   ],
   "source": [
    "np.ones((2,3,4))"
   ]
  },
  {
   "cell_type": "code",
   "execution_count": 74,
   "id": "51b80b9d",
   "metadata": {},
   "outputs": [],
   "source": [
    "q3 = np.ones((2,3,4), dtype = int)"
   ]
  },
  {
   "cell_type": "code",
   "execution_count": 75,
   "id": "302b04c1",
   "metadata": {},
   "outputs": [
    {
     "data": {
      "text/plain": [
       "array([[[1, 1, 1, 1],\n",
       "        [1, 1, 1, 1],\n",
       "        [1, 1, 1, 1]],\n",
       "\n",
       "       [[1, 1, 1, 1],\n",
       "        [1, 1, 1, 1],\n",
       "        [1, 1, 1, 1]]])"
      ]
     },
     "execution_count": 75,
     "metadata": {},
     "output_type": "execute_result"
    }
   ],
   "source": [
    "q3"
   ]
  },
  {
   "cell_type": "code",
   "execution_count": 76,
   "id": "d0aa5431",
   "metadata": {},
   "outputs": [
    {
     "name": "stdout",
     "output_type": "stream",
     "text": [
      "[[[1 1 1 1]\n",
      "  [1 1 1 1]\n",
      "  [1 1 1 1]]\n",
      "\n",
      " [[1 1 1 1]\n",
      "  [1 1 1 1]\n",
      "  [1 1 1 1]]]\n"
     ]
    }
   ],
   "source": [
    "print(q3)"
   ]
  },
  {
   "cell_type": "code",
   "execution_count": 77,
   "id": "bd2336e6",
   "metadata": {},
   "outputs": [
    {
     "data": {
      "text/plain": [
       "(2, 3, 4)"
      ]
     },
     "execution_count": 77,
     "metadata": {},
     "output_type": "execute_result"
    }
   ],
   "source": [
    "q3.shape"
   ]
  },
  {
   "cell_type": "code",
   "execution_count": 78,
   "id": "04b3e198",
   "metadata": {},
   "outputs": [
    {
     "data": {
      "text/plain": [
       "3"
      ]
     },
     "execution_count": 78,
     "metadata": {},
     "output_type": "execute_result"
    }
   ],
   "source": [
    "q3.ndim"
   ]
  },
  {
   "cell_type": "code",
   "execution_count": 79,
   "id": "37750f60",
   "metadata": {},
   "outputs": [
    {
     "data": {
      "text/plain": [
       "24"
      ]
     },
     "execution_count": 79,
     "metadata": {},
     "output_type": "execute_result"
    }
   ],
   "source": [
    "q3.size"
   ]
  },
  {
   "cell_type": "code",
   "execution_count": 80,
   "id": "8aad0360",
   "metadata": {},
   "outputs": [
    {
     "data": {
      "text/plain": [
       "2"
      ]
     },
     "execution_count": 80,
     "metadata": {},
     "output_type": "execute_result"
    }
   ],
   "source": [
    "len(q3)"
   ]
  },
  {
   "cell_type": "markdown",
   "id": "86643118",
   "metadata": {},
   "source": [
    "---------------------------"
   ]
  },
  {
   "cell_type": "markdown",
   "id": "4723aa5c",
   "metadata": {},
   "source": [
    "# Full Array - An array in which all values are same (constant)\n",
    "\n",
    "### F = np.full(shape, fill_value)\n",
    "\n",
    "- We can define the shape, and pass the value to be filled in the 'Full Arrays'.\n",
    "- We can create 1-D, 2-D, as well as 3-D Full Array, with integer, float or string values.\n",
    "- The default data-type is Integer.\n",
    "\n",
    "* ndim - to check the dimension of the array\n",
    "* shape - to check the shape of the array\n",
    "* size - to check the size of the array"
   ]
  },
  {
   "cell_type": "code",
   "execution_count": 81,
   "id": "9771b320",
   "metadata": {},
   "outputs": [
    {
     "data": {
      "text/plain": [
       "array([79, 79, 79])"
      ]
     },
     "execution_count": 81,
     "metadata": {},
     "output_type": "execute_result"
    }
   ],
   "source": [
    "np.full(3, 79)"
   ]
  },
  {
   "cell_type": "code",
   "execution_count": 82,
   "id": "a8b328d7",
   "metadata": {},
   "outputs": [],
   "source": [
    "f1 = np.full(3, 79)"
   ]
  },
  {
   "cell_type": "code",
   "execution_count": 83,
   "id": "e0933000",
   "metadata": {},
   "outputs": [
    {
     "data": {
      "text/plain": [
       "array([79, 79, 79])"
      ]
     },
     "execution_count": 83,
     "metadata": {},
     "output_type": "execute_result"
    }
   ],
   "source": [
    "f1"
   ]
  },
  {
   "cell_type": "code",
   "execution_count": 84,
   "id": "483ff837",
   "metadata": {},
   "outputs": [
    {
     "name": "stdout",
     "output_type": "stream",
     "text": [
      "[79 79 79]\n"
     ]
    }
   ],
   "source": [
    "print(f1)"
   ]
  },
  {
   "cell_type": "code",
   "execution_count": 85,
   "id": "194e1201",
   "metadata": {},
   "outputs": [
    {
     "data": {
      "text/plain": [
       "array([69.69, 69.69, 69.69])"
      ]
     },
     "execution_count": 85,
     "metadata": {},
     "output_type": "execute_result"
    }
   ],
   "source": [
    "np.full(3, 69.69)"
   ]
  },
  {
   "cell_type": "code",
   "execution_count": 86,
   "id": "f323e6c0",
   "metadata": {},
   "outputs": [
    {
     "data": {
      "text/plain": [
       "array([69., 69., 69.])"
      ]
     },
     "execution_count": 86,
     "metadata": {},
     "output_type": "execute_result"
    }
   ],
   "source": [
    "np.full(3, 69, dtype = float)"
   ]
  },
  {
   "cell_type": "code",
   "execution_count": 87,
   "id": "928cf886",
   "metadata": {},
   "outputs": [
    {
     "data": {
      "text/plain": [
       "array([69., 69., 69.])"
      ]
     },
     "execution_count": 87,
     "metadata": {},
     "output_type": "execute_result"
    }
   ],
   "source": [
    "np.full(3, 69, float)"
   ]
  },
  {
   "cell_type": "code",
   "execution_count": 88,
   "id": "bd53cdc0",
   "metadata": {},
   "outputs": [
    {
     "data": {
      "text/plain": [
       "1"
      ]
     },
     "execution_count": 88,
     "metadata": {},
     "output_type": "execute_result"
    }
   ],
   "source": [
    "f1.ndim"
   ]
  },
  {
   "cell_type": "code",
   "execution_count": 89,
   "id": "a0f96090",
   "metadata": {},
   "outputs": [
    {
     "data": {
      "text/plain": [
       "1"
      ]
     },
     "execution_count": 89,
     "metadata": {},
     "output_type": "execute_result"
    }
   ],
   "source": [
    "np.ndim(f1)"
   ]
  },
  {
   "cell_type": "markdown",
   "id": "eb1cc828",
   "metadata": {},
   "source": [
    "--------------------------"
   ]
  },
  {
   "cell_type": "code",
   "execution_count": 90,
   "id": "1b73054f",
   "metadata": {},
   "outputs": [
    {
     "data": {
      "text/plain": [
       "array([[88, 88, 88],\n",
       "       [88, 88, 88]])"
      ]
     },
     "execution_count": 90,
     "metadata": {},
     "output_type": "execute_result"
    }
   ],
   "source": [
    "np.full((2,3), 88)"
   ]
  },
  {
   "cell_type": "code",
   "execution_count": 91,
   "id": "15824ee2",
   "metadata": {},
   "outputs": [
    {
     "data": {
      "text/plain": [
       "array([[50.9, 50.9, 50.9],\n",
       "       [50.9, 50.9, 50.9],\n",
       "       [50.9, 50.9, 50.9]])"
      ]
     },
     "execution_count": 91,
     "metadata": {},
     "output_type": "execute_result"
    }
   ],
   "source": [
    "f2 = np.full((3,3), 50.9)\n",
    "f2"
   ]
  },
  {
   "cell_type": "code",
   "execution_count": 92,
   "id": "e2ba28f7",
   "metadata": {},
   "outputs": [
    {
     "data": {
      "text/plain": [
       "2"
      ]
     },
     "execution_count": 92,
     "metadata": {},
     "output_type": "execute_result"
    }
   ],
   "source": [
    "np.ndim(f2)"
   ]
  },
  {
   "cell_type": "code",
   "execution_count": 93,
   "id": "ce971051",
   "metadata": {},
   "outputs": [],
   "source": [
    "f2 = np.full((2,2), 523, str)"
   ]
  },
  {
   "cell_type": "code",
   "execution_count": 94,
   "id": "d6db8446",
   "metadata": {},
   "outputs": [
    {
     "data": {
      "text/plain": [
       "array([['5', '5'],\n",
       "       ['5', '5']], dtype='<U1')"
      ]
     },
     "execution_count": 94,
     "metadata": {},
     "output_type": "execute_result"
    }
   ],
   "source": [
    "f2"
   ]
  },
  {
   "cell_type": "code",
   "execution_count": 95,
   "id": "44712374",
   "metadata": {},
   "outputs": [
    {
     "name": "stdout",
     "output_type": "stream",
     "text": [
      "[['5' '5']\n",
      " ['5' '5']]\n"
     ]
    }
   ],
   "source": [
    "print(f2)"
   ]
  },
  {
   "cell_type": "code",
   "execution_count": 96,
   "id": "f1ba39b0",
   "metadata": {},
   "outputs": [],
   "source": [
    "f2 = np.full((2,2), \"hi\")"
   ]
  },
  {
   "cell_type": "code",
   "execution_count": 97,
   "id": "7266edf4",
   "metadata": {},
   "outputs": [
    {
     "data": {
      "text/plain": [
       "array([['hi', 'hi'],\n",
       "       ['hi', 'hi']], dtype='<U2')"
      ]
     },
     "execution_count": 97,
     "metadata": {},
     "output_type": "execute_result"
    }
   ],
   "source": [
    "f2"
   ]
  },
  {
   "cell_type": "code",
   "execution_count": 98,
   "id": "c32a4bcb",
   "metadata": {},
   "outputs": [
    {
     "data": {
      "text/plain": [
       "(2, 2)"
      ]
     },
     "execution_count": 98,
     "metadata": {},
     "output_type": "execute_result"
    }
   ],
   "source": [
    "f2.shape"
   ]
  },
  {
   "cell_type": "markdown",
   "id": "93dfdf7b",
   "metadata": {},
   "source": [
    "---------------"
   ]
  },
  {
   "cell_type": "code",
   "execution_count": 99,
   "id": "269ebfbd",
   "metadata": {},
   "outputs": [
    {
     "data": {
      "text/plain": [
       "array([[['p', 'p', 'p', 'p'],\n",
       "        ['p', 'p', 'p', 'p'],\n",
       "        ['p', 'p', 'p', 'p']],\n",
       "\n",
       "       [['p', 'p', 'p', 'p'],\n",
       "        ['p', 'p', 'p', 'p'],\n",
       "        ['p', 'p', 'p', 'p']]], dtype='<U1')"
      ]
     },
     "execution_count": 99,
     "metadata": {},
     "output_type": "execute_result"
    }
   ],
   "source": [
    "np.full([2,3,4], \"python\", str)"
   ]
  },
  {
   "cell_type": "code",
   "execution_count": 100,
   "id": "9d409f8a",
   "metadata": {},
   "outputs": [
    {
     "data": {
      "text/plain": [
       "array([[['python', 'python', 'python', 'python'],\n",
       "        ['python', 'python', 'python', 'python'],\n",
       "        ['python', 'python', 'python', 'python']],\n",
       "\n",
       "       [['python', 'python', 'python', 'python'],\n",
       "        ['python', 'python', 'python', 'python'],\n",
       "        ['python', 'python', 'python', 'python']]], dtype='<U6')"
      ]
     },
     "execution_count": 100,
     "metadata": {},
     "output_type": "execute_result"
    }
   ],
   "source": [
    "np.full([2,3,4], \"python\")"
   ]
  },
  {
   "cell_type": "code",
   "execution_count": 101,
   "id": "c91d3f6b",
   "metadata": {},
   "outputs": [
    {
     "data": {
      "text/plain": [
       "(2, 3, 4)"
      ]
     },
     "execution_count": 101,
     "metadata": {},
     "output_type": "execute_result"
    }
   ],
   "source": [
    "f3 =np.full([2,3,4], \"python\")\n",
    "f3.shape"
   ]
  },
  {
   "cell_type": "code",
   "execution_count": 102,
   "id": "0f5e0b84",
   "metadata": {},
   "outputs": [
    {
     "data": {
      "text/plain": [
       "3"
      ]
     },
     "execution_count": 102,
     "metadata": {},
     "output_type": "execute_result"
    }
   ],
   "source": [
    "f3.ndim"
   ]
  },
  {
   "cell_type": "code",
   "execution_count": 103,
   "id": "7cedf5ad",
   "metadata": {},
   "outputs": [
    {
     "data": {
      "text/plain": [
       "24"
      ]
     },
     "execution_count": 103,
     "metadata": {},
     "output_type": "execute_result"
    }
   ],
   "source": [
    "f3.size"
   ]
  },
  {
   "cell_type": "code",
   "execution_count": 104,
   "id": "6a8917e2",
   "metadata": {},
   "outputs": [
    {
     "data": {
      "text/plain": [
       "2"
      ]
     },
     "execution_count": 104,
     "metadata": {},
     "output_type": "execute_result"
    }
   ],
   "source": [
    "len(f3)"
   ]
  },
  {
   "cell_type": "markdown",
   "id": "2b393c51",
   "metadata": {},
   "source": [
    "----------------"
   ]
  },
  {
   "cell_type": "markdown",
   "id": "27a9e72d",
   "metadata": {},
   "source": [
    "# The Random Module contain the functions which are used for generating random numbers."
   ]
  },
  {
   "cell_type": "code",
   "execution_count": 105,
   "id": "58acfc4c",
   "metadata": {},
   "outputs": [],
   "source": [
    "import numpy as np\n",
    "from numpy import random"
   ]
  },
  {
   "cell_type": "markdown",
   "id": "b3c6981d",
   "metadata": {},
   "source": [
    "## 1. Random Function\n",
    "\n",
    "It returns random float number(s) between 0 and 1."
   ]
  },
  {
   "cell_type": "code",
   "execution_count": 106,
   "id": "a8a369f1",
   "metadata": {},
   "outputs": [
    {
     "data": {
      "text/plain": [
       "0.6496925915932333"
      ]
     },
     "execution_count": 106,
     "metadata": {},
     "output_type": "execute_result"
    }
   ],
   "source": [
    "np.random.random()"
   ]
  },
  {
   "cell_type": "code",
   "execution_count": 107,
   "id": "1871f973",
   "metadata": {},
   "outputs": [
    {
     "data": {
      "text/plain": [
       "array([0.65952447, 0.95948667, 0.99143036, 0.60220717])"
      ]
     },
     "execution_count": 107,
     "metadata": {},
     "output_type": "execute_result"
    }
   ],
   "source": [
    "np.random.random(4)"
   ]
  },
  {
   "cell_type": "code",
   "execution_count": 108,
   "id": "2439e911",
   "metadata": {},
   "outputs": [
    {
     "data": {
      "text/plain": [
       "array([[0.97546818, 0.8714391 , 0.97770104],\n",
       "       [0.94532464, 0.57731682, 0.79824327]])"
      ]
     },
     "execution_count": 108,
     "metadata": {},
     "output_type": "execute_result"
    }
   ],
   "source": [
    "np.random.random((2,3))"
   ]
  },
  {
   "cell_type": "code",
   "execution_count": 109,
   "id": "6a7e0507",
   "metadata": {},
   "outputs": [
    {
     "data": {
      "text/plain": [
       "array([[[0.01698977, 0.49517997, 0.67423248, 0.09704033, 0.1878764 ],\n",
       "        [0.14501372, 0.08630788, 0.35219904, 0.81055187, 0.28203268],\n",
       "        [0.9211476 , 0.17225123, 0.35436266, 0.21506296, 0.46559816]],\n",
       "\n",
       "       [[0.57009361, 0.53237524, 0.35150627, 0.83245578, 0.7611184 ],\n",
       "        [0.69820678, 0.47643518, 0.93826991, 0.28787352, 0.49533348],\n",
       "        [0.17952528, 0.02754404, 0.08163195, 0.78841322, 0.15969973]]])"
      ]
     },
     "execution_count": 109,
     "metadata": {},
     "output_type": "execute_result"
    }
   ],
   "source": [
    "np.random.random((2,3,5))"
   ]
  },
  {
   "cell_type": "markdown",
   "id": "020e4267",
   "metadata": {},
   "source": [
    "---------------------------"
   ]
  },
  {
   "cell_type": "markdown",
   "id": "e9ab0a59",
   "metadata": {},
   "source": [
    "#### 2. Randint Function\n",
    "- It generates random integer number(s) between given range. \n",
    "- By default, the range starts from 0.\n",
    "- The numbers can repeat."
   ]
  },
  {
   "cell_type": "code",
   "execution_count": 110,
   "id": "b9098fc1",
   "metadata": {},
   "outputs": [
    {
     "data": {
      "text/plain": [
       "11"
      ]
     },
     "execution_count": 110,
     "metadata": {},
     "output_type": "execute_result"
    }
   ],
   "source": [
    "np.random.randint(2,13)"
   ]
  },
  {
   "cell_type": "code",
   "execution_count": 111,
   "id": "f4797505",
   "metadata": {},
   "outputs": [
    {
     "data": {
      "text/plain": [
       "array([ 6, 12, 11, 11,  6])"
      ]
     },
     "execution_count": 111,
     "metadata": {},
     "output_type": "execute_result"
    }
   ],
   "source": [
    "np.random.randint(2,13,5)"
   ]
  },
  {
   "cell_type": "code",
   "execution_count": 112,
   "id": "0792e31b",
   "metadata": {},
   "outputs": [
    {
     "data": {
      "text/plain": [
       "4"
      ]
     },
     "execution_count": 112,
     "metadata": {},
     "output_type": "execute_result"
    }
   ],
   "source": [
    "np.random.randint(5)"
   ]
  },
  {
   "cell_type": "markdown",
   "id": "3f71fd45",
   "metadata": {},
   "source": [
    "--------------------------"
   ]
  },
  {
   "cell_type": "markdown",
   "id": "1ab392bb",
   "metadata": {},
   "source": [
    "## 3. Rand Function\n",
    "\n",
    "It returns random float number(s) between 0 and 1."
   ]
  },
  {
   "cell_type": "code",
   "execution_count": 113,
   "id": "00db36b4",
   "metadata": {},
   "outputs": [
    {
     "data": {
      "text/plain": [
       "0.39025441517877235"
      ]
     },
     "execution_count": 113,
     "metadata": {},
     "output_type": "execute_result"
    }
   ],
   "source": [
    "np.random.rand()"
   ]
  },
  {
   "cell_type": "code",
   "execution_count": 114,
   "id": "7324f036",
   "metadata": {},
   "outputs": [
    {
     "data": {
      "text/plain": [
       "array([0.60413036, 0.24953191, 0.02658507, 0.85960857])"
      ]
     },
     "execution_count": 114,
     "metadata": {},
     "output_type": "execute_result"
    }
   ],
   "source": [
    "np.random.rand(4)"
   ]
  },
  {
   "cell_type": "code",
   "execution_count": 115,
   "id": "62d0736c",
   "metadata": {},
   "outputs": [
    {
     "data": {
      "text/plain": [
       "array([[0.4481126 , 0.65576132, 0.03478523],\n",
       "       [0.44748106, 0.29542084, 0.68289398]])"
      ]
     },
     "execution_count": 115,
     "metadata": {},
     "output_type": "execute_result"
    }
   ],
   "source": [
    "np.random.rand(2,3)"
   ]
  },
  {
   "cell_type": "code",
   "execution_count": 116,
   "id": "fc7cd6ac",
   "metadata": {},
   "outputs": [
    {
     "data": {
      "text/plain": [
       "array([[[0.54471539, 0.8758534 , 0.30511157, 0.97831983, 0.44259971],\n",
       "        [0.0773027 , 0.16491556, 0.07543474, 0.49319018, 0.58711887],\n",
       "        [0.36483401, 0.6591038 , 0.49162454, 0.4247582 , 0.80700444]],\n",
       "\n",
       "       [[0.74196961, 0.91733581, 0.33325038, 0.33964203, 0.61022808],\n",
       "        [0.98016621, 0.92444942, 0.02923255, 0.43943279, 0.71418618],\n",
       "        [0.06440454, 0.14749146, 0.5268325 , 0.45983494, 0.27082231]]])"
      ]
     },
     "execution_count": 116,
     "metadata": {},
     "output_type": "execute_result"
    }
   ],
   "source": [
    "np.random.rand(2,3,5)"
   ]
  },
  {
   "cell_type": "markdown",
   "id": "2476e5f8",
   "metadata": {},
   "source": [
    "---"
   ]
  },
  {
   "cell_type": "markdown",
   "id": "216a1f13",
   "metadata": {},
   "source": [
    "## 4. Randn Function\n",
    "\n",
    "It returns random float numbers (postive and negative both) in the form of array."
   ]
  },
  {
   "cell_type": "code",
   "execution_count": 117,
   "id": "d6be6ba7",
   "metadata": {},
   "outputs": [
    {
     "data": {
      "text/plain": [
       "0.5523971824379835"
      ]
     },
     "execution_count": 117,
     "metadata": {},
     "output_type": "execute_result"
    }
   ],
   "source": [
    "np.random.randn()"
   ]
  },
  {
   "cell_type": "code",
   "execution_count": 118,
   "id": "591c4ece",
   "metadata": {},
   "outputs": [
    {
     "data": {
      "text/plain": [
       "array([[ 0.01753058,  0.525303  ,  0.46634891],\n",
       "       [ 1.41566681,  0.32984581, -1.29648228]])"
      ]
     },
     "execution_count": 118,
     "metadata": {},
     "output_type": "execute_result"
    }
   ],
   "source": [
    "np.random.randn(2,3)"
   ]
  },
  {
   "cell_type": "code",
   "execution_count": 119,
   "id": "80c01f9c",
   "metadata": {},
   "outputs": [
    {
     "data": {
      "text/plain": [
       "array([[[-1.18347901, -0.34641168, -0.33876517],\n",
       "        [ 1.0605594 ,  0.76100392,  1.96899793],\n",
       "        [-0.42394581,  0.09123886,  0.53449957]],\n",
       "\n",
       "       [[-0.412219  , -0.46685248, -0.17520724],\n",
       "        [-0.46553503,  0.80223161,  0.08981845],\n",
       "        [ 0.88841308,  0.9848473 , -0.94971114]]])"
      ]
     },
     "execution_count": 119,
     "metadata": {},
     "output_type": "execute_result"
    }
   ],
   "source": [
    "np.random.randn(2,3,3)"
   ]
  },
  {
   "cell_type": "code",
   "execution_count": 120,
   "id": "954202d0",
   "metadata": {},
   "outputs": [
    {
     "data": {
      "text/plain": [
       "array([ 0.53299813,  1.56678803, -0.5074623 ])"
      ]
     },
     "execution_count": 120,
     "metadata": {},
     "output_type": "execute_result"
    }
   ],
   "source": [
    "np.random.randn(3)"
   ]
  },
  {
   "cell_type": "markdown",
   "id": "0c0b8aa9",
   "metadata": {},
   "source": [
    "---"
   ]
  },
  {
   "cell_type": "markdown",
   "id": "d15e593c",
   "metadata": {},
   "source": [
    "## 5. Uniform Function\n",
    "\n",
    "- It returns random float number(s) between the given range of values.\n",
    "- The random numbers can't repeat.\n",
    "- By default, the range starts from 0.\n",
    "- If nothing is passed in (), it will return a float number between 0 and 1."
   ]
  },
  {
   "cell_type": "code",
   "execution_count": 121,
   "id": "0f88a9b4",
   "metadata": {},
   "outputs": [
    {
     "data": {
      "text/plain": [
       "3.2491295646597718"
      ]
     },
     "execution_count": 121,
     "metadata": {},
     "output_type": "execute_result"
    }
   ],
   "source": [
    "np.random.uniform(2,5)"
   ]
  },
  {
   "cell_type": "code",
   "execution_count": 122,
   "id": "1e3c9999",
   "metadata": {},
   "outputs": [
    {
     "data": {
      "text/plain": [
       "array([3.15657423, 3.74744205, 2.75388923, 2.82772884, 2.44017413,\n",
       "       2.88641257, 4.94632296, 4.55010888, 3.84480733, 4.42356944,\n",
       "       3.94786177, 3.62341296, 2.34082858, 2.23587654, 3.18298637,\n",
       "       4.00624731, 3.97806157])"
      ]
     },
     "execution_count": 122,
     "metadata": {},
     "output_type": "execute_result"
    }
   ],
   "source": [
    "np.random.uniform(2,5,17)"
   ]
  },
  {
   "cell_type": "code",
   "execution_count": 123,
   "id": "07702ae8",
   "metadata": {},
   "outputs": [
    {
     "data": {
      "text/plain": [
       "4.742804579923764"
      ]
     },
     "execution_count": 123,
     "metadata": {},
     "output_type": "execute_result"
    }
   ],
   "source": [
    "np.random.uniform(5)"
   ]
  },
  {
   "cell_type": "code",
   "execution_count": 124,
   "id": "e0c631e8",
   "metadata": {},
   "outputs": [
    {
     "data": {
      "text/plain": [
       "0.4713395556825606"
      ]
     },
     "execution_count": 124,
     "metadata": {},
     "output_type": "execute_result"
    }
   ],
   "source": [
    "np.random.uniform()"
   ]
  },
  {
   "cell_type": "code",
   "execution_count": 125,
   "id": "cb6816d1",
   "metadata": {},
   "outputs": [
    {
     "data": {
      "text/plain": [
       "array([4.12374443, 4.92894473, 4.59508041])"
      ]
     },
     "execution_count": 125,
     "metadata": {},
     "output_type": "execute_result"
    }
   ],
   "source": [
    "np.random.uniform((2,3,4),5)"
   ]
  },
  {
   "cell_type": "markdown",
   "id": "7345f70e",
   "metadata": {},
   "source": [
    "----"
   ]
  },
  {
   "cell_type": "markdown",
   "id": "17652284",
   "metadata": {},
   "source": [
    "## 6. Choice Function\n",
    "- It returns random integer number(s) from the given sequence.\n",
    "- The range starts from 0 by default.\n",
    "- If only 1 element is passed, then it will return a number between 0 and that element.\n",
    "- By default, replace = True , which means the numbers can repeat."
   ]
  },
  {
   "cell_type": "code",
   "execution_count": 126,
   "id": "501a7198",
   "metadata": {},
   "outputs": [
    {
     "data": {
      "text/plain": [
       "51"
      ]
     },
     "execution_count": 126,
     "metadata": {},
     "output_type": "execute_result"
    }
   ],
   "source": [
    "np.random.choice([1,2,3,464,6,51,6,16,65])"
   ]
  },
  {
   "cell_type": "code",
   "execution_count": 127,
   "id": "7b8a6153",
   "metadata": {},
   "outputs": [
    {
     "data": {
      "text/plain": [
       "array([98,  4,  1,  2,  5])"
      ]
     },
     "execution_count": 127,
     "metadata": {},
     "output_type": "execute_result"
    }
   ],
   "source": [
    "np.random.choice([2,5,6,8,4,6,3,1,4,45,78,65,21,645,98], 5)"
   ]
  },
  {
   "cell_type": "code",
   "execution_count": 128,
   "id": "54816247",
   "metadata": {},
   "outputs": [
    {
     "data": {
      "text/plain": [
       "array([ 4,  9, 11,  4,  2, 12,  8, 10,  0,  8, 11, 10,  2,  1,  7,  1,  3,\n",
       "        8,  3,  6,  7,  8,  3,  0,  9, 12,  9,  7, 11,  0,  1,  9, 11, 11,\n",
       "       12,  5,  8,  4, 12,  8,  3,  5, 11,  8,  8,  9,  9,  9,  0,  6,  6,\n",
       "       12,  6, 11,  3,  5,  2,  8,  8,  1,  2,  6, 11,  4,  5,  8,  9, 11,\n",
       "        1,  5, 11, 11,  6,  2, 10, 11,  6,  6,  3,  1,  8,  4,  5,  8,  0,\n",
       "       10,  3,  6,  7,  1,  3,  8,  8, 11,  0,  9,  4,  4,  7,  0,  6, 12,\n",
       "        8,  2, 10,  7, 11, 12,  0,  0,  3, 11,  6,  2,  0, 11, 12, 10, 11,\n",
       "       12, 10,  6,  5])"
      ]
     },
     "execution_count": 128,
     "metadata": {},
     "output_type": "execute_result"
    }
   ],
   "source": [
    "np.random.choice(13,123)"
   ]
  },
  {
   "cell_type": "code",
   "execution_count": 129,
   "id": "1b024010",
   "metadata": {},
   "outputs": [
    {
     "data": {
      "text/plain": [
       "array([ 2, 44, 11, 33,  7])"
      ]
     },
     "execution_count": 129,
     "metadata": {},
     "output_type": "execute_result"
    }
   ],
   "source": [
    "np.random.choice([1,2,3,4,5,6,7,8,9,11,22,33,44,55,66,77,88,99,100], size = 5, replace = False)"
   ]
  },
  {
   "cell_type": "code",
   "execution_count": 130,
   "id": "3a40959d",
   "metadata": {},
   "outputs": [
    {
     "data": {
      "text/plain": [
       "2"
      ]
     },
     "execution_count": 130,
     "metadata": {},
     "output_type": "execute_result"
    }
   ],
   "source": [
    "np.random.choice(7)"
   ]
  },
  {
   "cell_type": "markdown",
   "id": "90e57f64",
   "metadata": {},
   "source": [
    "----"
   ]
  },
  {
   "cell_type": "markdown",
   "id": "8d56f45a",
   "metadata": {},
   "source": [
    "# Linspace Function returns evenly(linearly) spaced values within a given interval\n",
    "\n",
    "\n",
    "### np.linspace(start_value, stop_value, num=50, endpoint=False, retstep=True, dtype=None)\n",
    "\n",
    "\n",
    "\n",
    "##### Note - By Default it shows 50 values"
   ]
  },
  {
   "cell_type": "markdown",
   "id": "9e4c45f5",
   "metadata": {},
   "source": [
    "--------"
   ]
  },
  {
   "cell_type": "code",
   "execution_count": 131,
   "id": "b5bd9d52",
   "metadata": {},
   "outputs": [],
   "source": [
    "w = np.linspace(2, 20, num = 10)"
   ]
  },
  {
   "cell_type": "code",
   "execution_count": 132,
   "id": "b31e7326",
   "metadata": {},
   "outputs": [
    {
     "data": {
      "text/plain": [
       "array([ 2.,  4.,  6.,  8., 10., 12., 14., 16., 18., 20.])"
      ]
     },
     "execution_count": 132,
     "metadata": {},
     "output_type": "execute_result"
    }
   ],
   "source": [
    "w"
   ]
  },
  {
   "cell_type": "code",
   "execution_count": 133,
   "id": "46190005",
   "metadata": {},
   "outputs": [
    {
     "name": "stdout",
     "output_type": "stream",
     "text": [
      "[ 2.  4.  6.  8. 10. 12. 14. 16. 18. 20.]\n"
     ]
    }
   ],
   "source": [
    "print(w)"
   ]
  },
  {
   "cell_type": "code",
   "execution_count": 134,
   "id": "138e0721",
   "metadata": {},
   "outputs": [],
   "source": [
    "w = np.linspace(2, 20, num = 5)"
   ]
  },
  {
   "cell_type": "code",
   "execution_count": 135,
   "id": "6244943d",
   "metadata": {},
   "outputs": [
    {
     "data": {
      "text/plain": [
       "array([ 2. ,  6.5, 11. , 15.5, 20. ])"
      ]
     },
     "execution_count": 135,
     "metadata": {},
     "output_type": "execute_result"
    }
   ],
   "source": [
    "w"
   ]
  },
  {
   "cell_type": "code",
   "execution_count": 136,
   "id": "0edfcf41",
   "metadata": {},
   "outputs": [],
   "source": [
    "w = np.linspace(2, 20, num=10, endpoint=False)"
   ]
  },
  {
   "cell_type": "code",
   "execution_count": 137,
   "id": "0b7fbaac",
   "metadata": {},
   "outputs": [
    {
     "name": "stdout",
     "output_type": "stream",
     "text": [
      "[ 2.   3.8  5.6  7.4  9.2 11.  12.8 14.6 16.4 18.2]\n"
     ]
    }
   ],
   "source": [
    "print(w)"
   ]
  },
  {
   "cell_type": "code",
   "execution_count": 138,
   "id": "fb23c2f2",
   "metadata": {},
   "outputs": [],
   "source": [
    "w = np.linspace(2, 20, num=10, endpoint=True)"
   ]
  },
  {
   "cell_type": "code",
   "execution_count": 139,
   "id": "de16c7c4",
   "metadata": {},
   "outputs": [
    {
     "name": "stdout",
     "output_type": "stream",
     "text": [
      "[ 2.  4.  6.  8. 10. 12. 14. 16. 18. 20.]\n"
     ]
    }
   ],
   "source": [
    "print(w)"
   ]
  },
  {
   "cell_type": "code",
   "execution_count": 140,
   "id": "93b54f09",
   "metadata": {},
   "outputs": [],
   "source": [
    "w = np.linspace(2, 20, num=10, endpoint=True, retstep=True)"
   ]
  },
  {
   "cell_type": "code",
   "execution_count": 141,
   "id": "81ad430f",
   "metadata": {},
   "outputs": [
    {
     "name": "stdout",
     "output_type": "stream",
     "text": [
      "(array([ 2.,  4.,  6.,  8., 10., 12., 14., 16., 18., 20.]), 2.0)\n"
     ]
    }
   ],
   "source": [
    "print(w)"
   ]
  },
  {
   "cell_type": "code",
   "execution_count": 142,
   "id": "48566513",
   "metadata": {},
   "outputs": [],
   "source": [
    "w = np.linspace(2, 20, num=10, endpoint=True, retstep=False)"
   ]
  },
  {
   "cell_type": "code",
   "execution_count": 143,
   "id": "82ac846d",
   "metadata": {},
   "outputs": [
    {
     "name": "stdout",
     "output_type": "stream",
     "text": [
      "[ 2.  4.  6.  8. 10. 12. 14. 16. 18. 20.]\n"
     ]
    }
   ],
   "source": [
    "print(w)"
   ]
  },
  {
   "cell_type": "code",
   "execution_count": 144,
   "id": "2668989c",
   "metadata": {},
   "outputs": [],
   "source": [
    "w = np.linspace(2, 20, num=10, endpoint=True, retstep=False, dtype = int)"
   ]
  },
  {
   "cell_type": "code",
   "execution_count": 145,
   "id": "ff5eb0e9",
   "metadata": {},
   "outputs": [
    {
     "name": "stdout",
     "output_type": "stream",
     "text": [
      "[ 2  4  6  8 10 12 14 16 18 20]\n"
     ]
    }
   ],
   "source": [
    "print(w)"
   ]
  },
  {
   "cell_type": "code",
   "execution_count": 146,
   "id": "94e92104",
   "metadata": {},
   "outputs": [
    {
     "name": "stdout",
     "output_type": "stream",
     "text": [
      "['2.0' '4.0' '6.0' '8.0' '10.0' '12.0' '14.0' '16.0' '18.0' '20.0']\n"
     ]
    }
   ],
   "source": [
    "w = np.linspace(2, 20, num=10, endpoint=True, retstep=False, dtype = str)\n",
    "print(w)"
   ]
  },
  {
   "cell_type": "code",
   "execution_count": 147,
   "id": "c889ff6a",
   "metadata": {},
   "outputs": [],
   "source": [
    "w = np.linspace(2,20)"
   ]
  },
  {
   "cell_type": "code",
   "execution_count": 148,
   "id": "804b00d7",
   "metadata": {},
   "outputs": [
    {
     "name": "stdout",
     "output_type": "stream",
     "text": [
      "[ 2.          2.36734694  2.73469388  3.10204082  3.46938776  3.83673469\n",
      "  4.20408163  4.57142857  4.93877551  5.30612245  5.67346939  6.04081633\n",
      "  6.40816327  6.7755102   7.14285714  7.51020408  7.87755102  8.24489796\n",
      "  8.6122449   8.97959184  9.34693878  9.71428571 10.08163265 10.44897959\n",
      " 10.81632653 11.18367347 11.55102041 11.91836735 12.28571429 12.65306122\n",
      " 13.02040816 13.3877551  13.75510204 14.12244898 14.48979592 14.85714286\n",
      " 15.2244898  15.59183673 15.95918367 16.32653061 16.69387755 17.06122449\n",
      " 17.42857143 17.79591837 18.16326531 18.53061224 18.89795918 19.26530612\n",
      " 19.63265306 20.        ]\n"
     ]
    }
   ],
   "source": [
    "print(w)"
   ]
  },
  {
   "cell_type": "code",
   "execution_count": 149,
   "id": "e29f61d9",
   "metadata": {},
   "outputs": [
    {
     "name": "stdout",
     "output_type": "stream",
     "text": [
      "(array([ 2.        ,  2.7826087 ,  3.56521739,  4.34782609,  5.13043478,\n",
      "        5.91304348,  6.69565217,  7.47826087,  8.26086957,  9.04347826,\n",
      "        9.82608696, 10.60869565, 11.39130435, 12.17391304, 12.95652174,\n",
      "       13.73913043, 14.52173913, 15.30434783, 16.08695652, 16.86956522,\n",
      "       17.65217391, 18.43478261, 19.2173913 , 20.        ]), 0.782608695652174)\n"
     ]
    }
   ],
   "source": [
    "w = np.linspace(2, 20, num=24, retstep=True)\n",
    "print(w)"
   ]
  },
  {
   "cell_type": "markdown",
   "id": "709cc862",
   "metadata": {},
   "source": [
    "------------------"
   ]
  },
  {
   "cell_type": "markdown",
   "id": "0e1c2e58",
   "metadata": {},
   "source": [
    "## Empty Function is used to create an array of arbitary values, of given shape and datatype, without initializing the entries.\n",
    "\n",
    "\n",
    "### Syntax : np.empty(shape, dtype)\n",
    "\n",
    "\n",
    "* Shape can given in list or tuple form\n",
    "* The Default datatype is float"
   ]
  },
  {
   "cell_type": "code",
   "execution_count": 150,
   "id": "ae0c66ec",
   "metadata": {},
   "outputs": [
    {
     "data": {
      "text/plain": [
       "array([302983056,       398,         0,         0,         1])"
      ]
     },
     "execution_count": 150,
     "metadata": {},
     "output_type": "execute_result"
    }
   ],
   "source": [
    "np.empty(shape=5, dtype=int)"
   ]
  },
  {
   "cell_type": "code",
   "execution_count": 151,
   "id": "52e69840",
   "metadata": {},
   "outputs": [],
   "source": [
    "a = np.empty(5)"
   ]
  },
  {
   "cell_type": "code",
   "execution_count": 152,
   "id": "6fae96fb",
   "metadata": {},
   "outputs": [
    {
     "data": {
      "text/plain": [
       "array([8.48798316e-314, 1.69759663e-313, 2.54639495e-313, 3.39519327e-313,\n",
       "       4.24399158e-313])"
      ]
     },
     "execution_count": 152,
     "metadata": {},
     "output_type": "execute_result"
    }
   ],
   "source": [
    "a"
   ]
  },
  {
   "cell_type": "code",
   "execution_count": 153,
   "id": "668cff17",
   "metadata": {},
   "outputs": [],
   "source": [
    "a = np.empty(5, dtype = int)"
   ]
  },
  {
   "cell_type": "code",
   "execution_count": 154,
   "id": "f4c05b64",
   "metadata": {},
   "outputs": [
    {
     "data": {
      "text/plain": [
       "array([302983056,       398,         0,         0,         1])"
      ]
     },
     "execution_count": 154,
     "metadata": {},
     "output_type": "execute_result"
    }
   ],
   "source": [
    "a"
   ]
  },
  {
   "cell_type": "code",
   "execution_count": 155,
   "id": "ec2b08b5",
   "metadata": {},
   "outputs": [
    {
     "data": {
      "text/plain": [
       "array([None, None, None, None, None], dtype=object)"
      ]
     },
     "execution_count": 155,
     "metadata": {},
     "output_type": "execute_result"
    }
   ],
   "source": [
    "np.empty(5, dtype = object)"
   ]
  },
  {
   "cell_type": "code",
   "execution_count": 156,
   "id": "fd2cf04c",
   "metadata": {},
   "outputs": [],
   "source": [
    "b = np.empty((5, 3))"
   ]
  },
  {
   "cell_type": "code",
   "execution_count": 157,
   "id": "da2f2c5f",
   "metadata": {},
   "outputs": [
    {
     "data": {
      "text/plain": [
       "array([[0.00000000e+000, 0.00000000e+000, 0.00000000e+000],\n",
       "       [0.00000000e+000, 0.00000000e+000, 0.00000000e+000],\n",
       "       [0.00000000e+000, 0.00000000e+000, 0.00000000e+000],\n",
       "       [0.00000000e+000, 0.00000000e+000, 0.00000000e+000],\n",
       "       [0.00000000e+000, 0.00000000e+000, 3.00068841e+296]])"
      ]
     },
     "execution_count": 157,
     "metadata": {},
     "output_type": "execute_result"
    }
   ],
   "source": [
    "b"
   ]
  },
  {
   "cell_type": "code",
   "execution_count": 158,
   "id": "5e22fe7f",
   "metadata": {},
   "outputs": [],
   "source": [
    "b = np.empty((5,3), dtype=int)"
   ]
  },
  {
   "cell_type": "code",
   "execution_count": 159,
   "id": "02ad1717",
   "metadata": {},
   "outputs": [
    {
     "data": {
      "text/plain": [
       "array([[  2,   5,   6],\n",
       "       [  8,   4,   6],\n",
       "       [  3,   1,   4],\n",
       "       [ 45,  78,  65],\n",
       "       [ 21, 645,  98]])"
      ]
     },
     "execution_count": 159,
     "metadata": {},
     "output_type": "execute_result"
    }
   ],
   "source": [
    "b"
   ]
  },
  {
   "cell_type": "code",
   "execution_count": 160,
   "id": "4d0a5246",
   "metadata": {},
   "outputs": [],
   "source": [
    "b= np.empty((5,3), dtype=object)"
   ]
  },
  {
   "cell_type": "code",
   "execution_count": 161,
   "id": "8ebbf712",
   "metadata": {},
   "outputs": [
    {
     "data": {
      "text/plain": [
       "array([[None, None, None],\n",
       "       [None, None, None],\n",
       "       [None, None, None],\n",
       "       [None, None, None],\n",
       "       [None, None, None]], dtype=object)"
      ]
     },
     "execution_count": 161,
     "metadata": {},
     "output_type": "execute_result"
    }
   ],
   "source": [
    "b"
   ]
  },
  {
   "cell_type": "code",
   "execution_count": 162,
   "id": "e3dbb05c",
   "metadata": {},
   "outputs": [],
   "source": [
    "b= np.empty([2, 5, 3])"
   ]
  },
  {
   "cell_type": "code",
   "execution_count": 163,
   "id": "cbb95698",
   "metadata": {},
   "outputs": [
    {
     "data": {
      "text/plain": [
       "array([[[0.54471539, 0.8758534 , 0.30511157],\n",
       "        [0.97831983, 0.44259971, 0.0773027 ],\n",
       "        [0.16491556, 0.07543474, 0.49319018],\n",
       "        [0.58711887, 0.36483401, 0.6591038 ],\n",
       "        [0.49162454, 0.4247582 , 0.80700444]],\n",
       "\n",
       "       [[0.74196961, 0.91733581, 0.33325038],\n",
       "        [0.33964203, 0.61022808, 0.98016621],\n",
       "        [0.92444942, 0.02923255, 0.43943279],\n",
       "        [0.71418618, 0.06440454, 0.14749146],\n",
       "        [0.5268325 , 0.45983494, 0.27082231]]])"
      ]
     },
     "execution_count": 163,
     "metadata": {},
     "output_type": "execute_result"
    }
   ],
   "source": [
    "b"
   ]
  },
  {
   "cell_type": "code",
   "execution_count": 164,
   "id": "0865b49c",
   "metadata": {},
   "outputs": [],
   "source": [
    "b= np.empty([2,5,3], dtype=int)"
   ]
  },
  {
   "cell_type": "code",
   "execution_count": 165,
   "id": "bf040de7",
   "metadata": {},
   "outputs": [
    {
     "data": {
      "text/plain": [
       "array([[[ 323502056,        398,         67],\n",
       "        [         0,          0,          0],\n",
       "        [         0,          0,          0],\n",
       "        [         0, 1868767867,  975332708],\n",
       "        [1029841440,  779120160, 1953525093]],\n",
       "\n",
       "       [[ 844834937,  858535212, 1679830109],\n",
       "        [1701869940, 1953392957,  539763241],\n",
       "        [1702389026, 1769239907, 1667198575],\n",
       "        [1953396079,  824195618,    8205366],\n",
       "        [         0,  540680804,    8215899]]])"
      ]
     },
     "execution_count": 165,
     "metadata": {},
     "output_type": "execute_result"
    }
   ],
   "source": [
    "b"
   ]
  },
  {
   "cell_type": "code",
   "execution_count": 166,
   "id": "ce41cb7f",
   "metadata": {},
   "outputs": [],
   "source": [
    "b= np.empty([2,5,3], dtype=object)"
   ]
  },
  {
   "cell_type": "code",
   "execution_count": 167,
   "id": "c4fdb498",
   "metadata": {},
   "outputs": [
    {
     "data": {
      "text/plain": [
       "array([[[None, None, None],\n",
       "        [None, None, None],\n",
       "        [None, None, None],\n",
       "        [None, None, None],\n",
       "        [None, None, None]],\n",
       "\n",
       "       [[None, None, None],\n",
       "        [None, None, None],\n",
       "        [None, None, None],\n",
       "        [None, None, None],\n",
       "        [None, None, None]]], dtype=object)"
      ]
     },
     "execution_count": 167,
     "metadata": {},
     "output_type": "execute_result"
    }
   ],
   "source": [
    "b"
   ]
  },
  {
   "cell_type": "markdown",
   "id": "eec955f1",
   "metadata": {},
   "source": [
    "-------"
   ]
  },
  {
   "cell_type": "markdown",
   "id": "05b44fb6",
   "metadata": {},
   "source": [
    "## Eye Function\n",
    "\n",
    "## The Eye Function returns a 2-D array, with 1 on diagonal and 0 eleswhere\n",
    "\n",
    "## Syntax :\n",
    "    np.eye(shape, k, dtype)\n",
    "    \n",
    "* Here, if only No of Rows is passed, then NO of Column = No of Rows\n",
    "* K is index of diagonal, by default k = 0 means Main diagonal ; when k=positive means Upper diagonal ; when k=neagtibve means Lower diagonal\n",
    "* The default datatype is float"
   ]
  },
  {
   "cell_type": "code",
   "execution_count": 168,
   "id": "b540a6ff",
   "metadata": {},
   "outputs": [
    {
     "data": {
      "text/plain": [
       "array([[1., 0., 0., 0.],\n",
       "       [0., 1., 0., 0.],\n",
       "       [0., 0., 1., 0.],\n",
       "       [0., 0., 0., 1.]])"
      ]
     },
     "execution_count": 168,
     "metadata": {},
     "output_type": "execute_result"
    }
   ],
   "source": [
    "np.eye(4)"
   ]
  },
  {
   "cell_type": "code",
   "execution_count": 169,
   "id": "68b99144",
   "metadata": {},
   "outputs": [
    {
     "data": {
      "text/plain": [
       "array([[1., 0., 0., 0.],\n",
       "       [0., 1., 0., 0.],\n",
       "       [0., 0., 1., 0.],\n",
       "       [0., 0., 0., 1.]])"
      ]
     },
     "execution_count": 169,
     "metadata": {},
     "output_type": "execute_result"
    }
   ],
   "source": [
    "np.eye(4, k=0)"
   ]
  },
  {
   "cell_type": "code",
   "execution_count": 170,
   "id": "f8dbc559",
   "metadata": {},
   "outputs": [
    {
     "data": {
      "text/plain": [
       "array([[0., 1., 0., 0.],\n",
       "       [0., 0., 1., 0.],\n",
       "       [0., 0., 0., 1.],\n",
       "       [0., 0., 0., 0.]])"
      ]
     },
     "execution_count": 170,
     "metadata": {},
     "output_type": "execute_result"
    }
   ],
   "source": [
    "np.eye(4, k=1)"
   ]
  },
  {
   "cell_type": "code",
   "execution_count": 171,
   "id": "3271066d",
   "metadata": {},
   "outputs": [
    {
     "data": {
      "text/plain": [
       "array([[0., 0., 0., 0.],\n",
       "       [1., 0., 0., 0.],\n",
       "       [0., 1., 0., 0.],\n",
       "       [0., 0., 1., 0.]])"
      ]
     },
     "execution_count": 171,
     "metadata": {},
     "output_type": "execute_result"
    }
   ],
   "source": [
    "np.eye(4, k=-1)"
   ]
  },
  {
   "cell_type": "code",
   "execution_count": 172,
   "id": "5e6dde57",
   "metadata": {},
   "outputs": [
    {
     "data": {
      "text/plain": [
       "array([[1, 0, 0, 0],\n",
       "       [0, 1, 0, 0],\n",
       "       [0, 0, 1, 0],\n",
       "       [0, 0, 0, 1]])"
      ]
     },
     "execution_count": 172,
     "metadata": {},
     "output_type": "execute_result"
    }
   ],
   "source": [
    "np.eye(4, dtype=int)"
   ]
  },
  {
   "cell_type": "code",
   "execution_count": 173,
   "id": "9bfb3496",
   "metadata": {},
   "outputs": [
    {
     "data": {
      "text/plain": [
       "array([[1., 0., 0., 0., 0.],\n",
       "       [0., 1., 0., 0., 0.],\n",
       "       [0., 0., 1., 0., 0.],\n",
       "       [0., 0., 0., 1., 0.]])"
      ]
     },
     "execution_count": 173,
     "metadata": {},
     "output_type": "execute_result"
    }
   ],
   "source": [
    "np.eye(4,5)"
   ]
  },
  {
   "cell_type": "code",
   "execution_count": 174,
   "id": "d980e78c",
   "metadata": {},
   "outputs": [
    {
     "data": {
      "text/plain": [
       "array([[1., 0., 0., 0.],\n",
       "       [0., 1., 0., 0.],\n",
       "       [0., 0., 1., 0.],\n",
       "       [0., 0., 0., 1.],\n",
       "       [0., 0., 0., 0.]])"
      ]
     },
     "execution_count": 174,
     "metadata": {},
     "output_type": "execute_result"
    }
   ],
   "source": [
    "np.eye(5, 4)"
   ]
  },
  {
   "cell_type": "code",
   "execution_count": 175,
   "id": "3818af0f",
   "metadata": {},
   "outputs": [
    {
     "data": {
      "text/plain": [
       "array([[1.]])"
      ]
     },
     "execution_count": 175,
     "metadata": {},
     "output_type": "execute_result"
    }
   ],
   "source": [
    "np.eye(1)"
   ]
  },
  {
   "cell_type": "code",
   "execution_count": 176,
   "id": "7aef8560",
   "metadata": {},
   "outputs": [
    {
     "data": {
      "text/plain": [
       "array([[1., 0., 0., 0., 0., 0., 0., 0., 0., 0., 0., 0.],\n",
       "       [0., 1., 0., 0., 0., 0., 0., 0., 0., 0., 0., 0.],\n",
       "       [0., 0., 1., 0., 0., 0., 0., 0., 0., 0., 0., 0.],\n",
       "       [0., 0., 0., 1., 0., 0., 0., 0., 0., 0., 0., 0.],\n",
       "       [0., 0., 0., 0., 1., 0., 0., 0., 0., 0., 0., 0.],\n",
       "       [0., 0., 0., 0., 0., 1., 0., 0., 0., 0., 0., 0.],\n",
       "       [0., 0., 0., 0., 0., 0., 1., 0., 0., 0., 0., 0.],\n",
       "       [0., 0., 0., 0., 0., 0., 0., 1., 0., 0., 0., 0.],\n",
       "       [0., 0., 0., 0., 0., 0., 0., 0., 1., 0., 0., 0.],\n",
       "       [0., 0., 0., 0., 0., 0., 0., 0., 0., 1., 0., 0.],\n",
       "       [0., 0., 0., 0., 0., 0., 0., 0., 0., 0., 1., 0.],\n",
       "       [0., 0., 0., 0., 0., 0., 0., 0., 0., 0., 0., 1.]])"
      ]
     },
     "execution_count": 176,
     "metadata": {},
     "output_type": "execute_result"
    }
   ],
   "source": [
    "np.eye(12)"
   ]
  },
  {
   "cell_type": "code",
   "execution_count": 177,
   "id": "37d61248",
   "metadata": {},
   "outputs": [
    {
     "data": {
      "text/plain": [
       "array([[0, 0, 0, 1, 0, 0, 0, 0, 0],\n",
       "       [0, 0, 0, 0, 1, 0, 0, 0, 0],\n",
       "       [0, 0, 0, 0, 0, 1, 0, 0, 0],\n",
       "       [0, 0, 0, 0, 0, 0, 1, 0, 0],\n",
       "       [0, 0, 0, 0, 0, 0, 0, 1, 0],\n",
       "       [0, 0, 0, 0, 0, 0, 0, 0, 1]])"
      ]
     },
     "execution_count": 177,
     "metadata": {},
     "output_type": "execute_result"
    }
   ],
   "source": [
    "np.eye(6,9, k=3, dtype=int)"
   ]
  },
  {
   "cell_type": "code",
   "execution_count": 178,
   "id": "cc255584",
   "metadata": {},
   "outputs": [
    {
     "data": {
      "text/plain": [
       "array([['1', '', '', '', ''],\n",
       "       ['', '1', '', '', ''],\n",
       "       ['', '', '1', '', ''],\n",
       "       ['', '', '', '1', ''],\n",
       "       ['', '', '', '', '1']], dtype='<U1')"
      ]
     },
     "execution_count": 178,
     "metadata": {},
     "output_type": "execute_result"
    }
   ],
   "source": [
    "np.eye(5, dtype=str)"
   ]
  },
  {
   "cell_type": "code",
   "execution_count": 179,
   "id": "b50f3780",
   "metadata": {},
   "outputs": [
    {
     "data": {
      "text/plain": [
       "2"
      ]
     },
     "execution_count": 179,
     "metadata": {},
     "output_type": "execute_result"
    }
   ],
   "source": [
    "np.eye(5, dtype=str).ndim"
   ]
  },
  {
   "cell_type": "markdown",
   "id": "17a1798b",
   "metadata": {},
   "source": [
    "------------"
   ]
  },
  {
   "cell_type": "markdown",
   "id": "b6119d0b",
   "metadata": {},
   "source": [
    "# Identity Function"
   ]
  },
  {
   "cell_type": "markdown",
   "id": "82abe1a8",
   "metadata": {},
   "source": [
    "#### It returns an identity array i.e., a square array with 1 on the main diagonal and all other elements are 0.\n",
    "\n",
    "###### Syntax :\n",
    "    np.identity(shape, dtype)\n",
    "\n",
    "- It takes a single integer value only as shape.\n",
    "- The No. of Rows and No. of Columns will be equal to the given integer value.\n",
    "- The default datatype is float"
   ]
  },
  {
   "cell_type": "code",
   "execution_count": 180,
   "id": "a2948329",
   "metadata": {},
   "outputs": [
    {
     "data": {
      "text/plain": [
       "array([[1., 0., 0., 0.],\n",
       "       [0., 1., 0., 0.],\n",
       "       [0., 0., 1., 0.],\n",
       "       [0., 0., 0., 1.]])"
      ]
     },
     "execution_count": 180,
     "metadata": {},
     "output_type": "execute_result"
    }
   ],
   "source": [
    "np.identity(4)"
   ]
  },
  {
   "cell_type": "code",
   "execution_count": 181,
   "id": "94643822",
   "metadata": {},
   "outputs": [
    {
     "data": {
      "text/plain": [
       "array([[1, 0, 0, 0],\n",
       "       [0, 1, 0, 0],\n",
       "       [0, 0, 1, 0],\n",
       "       [0, 0, 0, 1]])"
      ]
     },
     "execution_count": 181,
     "metadata": {},
     "output_type": "execute_result"
    }
   ],
   "source": [
    "np.identity(4, dtype=int)"
   ]
  },
  {
   "cell_type": "code",
   "execution_count": 182,
   "id": "0df7ff1b",
   "metadata": {},
   "outputs": [
    {
     "data": {
      "text/plain": [
       "2"
      ]
     },
     "execution_count": 182,
     "metadata": {},
     "output_type": "execute_result"
    }
   ],
   "source": [
    "np.identity(4, dtype=int).ndim"
   ]
  },
  {
   "cell_type": "code",
   "execution_count": 183,
   "id": "1fe0ce53",
   "metadata": {},
   "outputs": [
    {
     "data": {
      "text/plain": [
       "(4, 4)"
      ]
     },
     "execution_count": 183,
     "metadata": {},
     "output_type": "execute_result"
    }
   ],
   "source": [
    "np.identity(4, dtype=int).shape"
   ]
  },
  {
   "cell_type": "code",
   "execution_count": 184,
   "id": "bc534fa2",
   "metadata": {},
   "outputs": [
    {
     "data": {
      "text/plain": [
       "16"
      ]
     },
     "execution_count": 184,
     "metadata": {},
     "output_type": "execute_result"
    }
   ],
   "source": [
    "np.identity(4, dtype=int).size"
   ]
  },
  {
   "cell_type": "code",
   "execution_count": 185,
   "id": "133a5d32",
   "metadata": {
    "scrolled": true
   },
   "outputs": [
    {
     "data": {
      "text/plain": [
       "array([['1', '', '', ''],\n",
       "       ['', '1', '', ''],\n",
       "       ['', '', '1', ''],\n",
       "       ['', '', '', '1']], dtype='<U1')"
      ]
     },
     "execution_count": 185,
     "metadata": {},
     "output_type": "execute_result"
    }
   ],
   "source": [
    "np.identity(4, dtype=str)"
   ]
  },
  {
   "cell_type": "code",
   "execution_count": 186,
   "id": "bfe70602",
   "metadata": {},
   "outputs": [],
   "source": [
    "a = np.identity(4, dtype=int)"
   ]
  },
  {
   "cell_type": "code",
   "execution_count": 187,
   "id": "d76fa4fe",
   "metadata": {},
   "outputs": [
    {
     "data": {
      "text/plain": [
       "array([[3, 0, 0, 0],\n",
       "       [0, 3, 0, 0],\n",
       "       [0, 0, 3, 0],\n",
       "       [0, 0, 0, 3]])"
      ]
     },
     "execution_count": 187,
     "metadata": {},
     "output_type": "execute_result"
    }
   ],
   "source": [
    "a*3"
   ]
  },
  {
   "cell_type": "code",
   "execution_count": 188,
   "id": "2257c901",
   "metadata": {},
   "outputs": [
    {
     "data": {
      "text/plain": [
       "array([[1, 0, 0, 0],\n",
       "       [0, 1, 0, 0],\n",
       "       [0, 0, 1, 0],\n",
       "       [0, 0, 0, 1]])"
      ]
     },
     "execution_count": 188,
     "metadata": {},
     "output_type": "execute_result"
    }
   ],
   "source": [
    "a"
   ]
  },
  {
   "cell_type": "code",
   "execution_count": 189,
   "id": "96ec4108",
   "metadata": {},
   "outputs": [
    {
     "data": {
      "text/plain": [
       "array([[2.5, 0. , 0. , 0. ],\n",
       "       [0. , 2.5, 0. , 0. ],\n",
       "       [0. , 0. , 2.5, 0. ],\n",
       "       [0. , 0. , 0. , 2.5]])"
      ]
     },
     "execution_count": 189,
     "metadata": {},
     "output_type": "execute_result"
    }
   ],
   "source": [
    "a*2.5"
   ]
  },
  {
   "cell_type": "markdown",
   "id": "4fb81d0e",
   "metadata": {},
   "source": [
    "----------"
   ]
  },
  {
   "cell_type": "markdown",
   "id": "aa3921ea",
   "metadata": {},
   "source": [
    "#### Ones Like Array - It returns an array of Ones, with the same shape & type as of the given array."
   ]
  },
  {
   "cell_type": "markdown",
   "id": "d220f47c",
   "metadata": {},
   "source": [
    "#### Syntax :\n",
    "    np.ones_like(array, dtype)"
   ]
  },
  {
   "cell_type": "code",
   "execution_count": 190,
   "id": "e8c0ad5d",
   "metadata": {},
   "outputs": [],
   "source": [
    "a = np.array([21,52,93])"
   ]
  },
  {
   "cell_type": "code",
   "execution_count": 191,
   "id": "42af3767",
   "metadata": {},
   "outputs": [
    {
     "data": {
      "text/plain": [
       "array([21, 52, 93])"
      ]
     },
     "execution_count": 191,
     "metadata": {},
     "output_type": "execute_result"
    }
   ],
   "source": [
    "a"
   ]
  },
  {
   "cell_type": "code",
   "execution_count": 192,
   "id": "45fd747e",
   "metadata": {},
   "outputs": [],
   "source": [
    "b= np.ones_like(a)"
   ]
  },
  {
   "cell_type": "code",
   "execution_count": 193,
   "id": "e0e0581a",
   "metadata": {},
   "outputs": [
    {
     "data": {
      "text/plain": [
       "array([1, 1, 1])"
      ]
     },
     "execution_count": 193,
     "metadata": {},
     "output_type": "execute_result"
    }
   ],
   "source": [
    "b"
   ]
  },
  {
   "cell_type": "code",
   "execution_count": 194,
   "id": "8f493fa3",
   "metadata": {},
   "outputs": [],
   "source": [
    "c = np.random.random((3,4))"
   ]
  },
  {
   "cell_type": "code",
   "execution_count": 195,
   "id": "50fa9b5c",
   "metadata": {},
   "outputs": [
    {
     "data": {
      "text/plain": [
       "array([[0.09558568, 0.21359302, 0.30293149, 0.39230557],\n",
       "       [0.99910794, 0.91790911, 0.36140746, 0.7427031 ],\n",
       "       [0.02409742, 0.32434014, 0.68608648, 0.99540367]])"
      ]
     },
     "execution_count": 195,
     "metadata": {},
     "output_type": "execute_result"
    }
   ],
   "source": [
    "c"
   ]
  },
  {
   "cell_type": "code",
   "execution_count": 196,
   "id": "4d2fa6ae",
   "metadata": {},
   "outputs": [
    {
     "data": {
      "text/plain": [
       "array([[1., 1., 1., 1.],\n",
       "       [1., 1., 1., 1.],\n",
       "       [1., 1., 1., 1.]])"
      ]
     },
     "execution_count": 196,
     "metadata": {},
     "output_type": "execute_result"
    }
   ],
   "source": [
    "np.ones_like(c)"
   ]
  },
  {
   "cell_type": "code",
   "execution_count": 197,
   "id": "4638c70a",
   "metadata": {},
   "outputs": [
    {
     "data": {
      "text/plain": [
       "array([[1, 1, 1, 1],\n",
       "       [1, 1, 1, 1],\n",
       "       [1, 1, 1, 1]])"
      ]
     },
     "execution_count": 197,
     "metadata": {},
     "output_type": "execute_result"
    }
   ],
   "source": [
    "np.ones_like(c, dtype=int)"
   ]
  },
  {
   "cell_type": "markdown",
   "id": "916302f0",
   "metadata": {},
   "source": [
    "-------"
   ]
  },
  {
   "cell_type": "markdown",
   "id": "91236d26",
   "metadata": {},
   "source": [
    "#### Zeros Like Array - It returns an array of Zeros, with the same shape & type as of the given array."
   ]
  },
  {
   "cell_type": "markdown",
   "id": "d598f384",
   "metadata": {},
   "source": [
    "#### Syntax :\n",
    "    np.zeros_like(array, dtype)"
   ]
  },
  {
   "cell_type": "code",
   "execution_count": 198,
   "id": "be856c99",
   "metadata": {},
   "outputs": [
    {
     "data": {
      "text/plain": [
       "array([21, 52, 93])"
      ]
     },
     "execution_count": 198,
     "metadata": {},
     "output_type": "execute_result"
    }
   ],
   "source": [
    "a"
   ]
  },
  {
   "cell_type": "code",
   "execution_count": 199,
   "id": "6074556e",
   "metadata": {},
   "outputs": [
    {
     "data": {
      "text/plain": [
       "array([0, 0, 0])"
      ]
     },
     "execution_count": 199,
     "metadata": {},
     "output_type": "execute_result"
    }
   ],
   "source": [
    "np.zeros_like(a)"
   ]
  },
  {
   "cell_type": "code",
   "execution_count": 200,
   "id": "e7d35c29",
   "metadata": {},
   "outputs": [],
   "source": [
    "b = np.random.randn(5,2)"
   ]
  },
  {
   "cell_type": "code",
   "execution_count": 201,
   "id": "b0e325f0",
   "metadata": {},
   "outputs": [
    {
     "data": {
      "text/plain": [
       "array([[ 1.06050135, -0.37232564],\n",
       "       [-0.34221273, -0.1568148 ],\n",
       "       [ 1.01882926,  0.56702726],\n",
       "       [-0.14185031,  0.49611005],\n",
       "       [ 0.2127774 ,  0.53201639]])"
      ]
     },
     "execution_count": 201,
     "metadata": {},
     "output_type": "execute_result"
    }
   ],
   "source": [
    "b"
   ]
  },
  {
   "cell_type": "code",
   "execution_count": 202,
   "id": "04ea0015",
   "metadata": {},
   "outputs": [
    {
     "data": {
      "text/plain": [
       "array([[0., 0.],\n",
       "       [0., 0.],\n",
       "       [0., 0.],\n",
       "       [0., 0.],\n",
       "       [0., 0.]])"
      ]
     },
     "execution_count": 202,
     "metadata": {},
     "output_type": "execute_result"
    }
   ],
   "source": [
    "np.zeros_like(b)"
   ]
  },
  {
   "cell_type": "code",
   "execution_count": 203,
   "id": "f7c73d67",
   "metadata": {},
   "outputs": [
    {
     "data": {
      "text/plain": [
       "array([[0, 0],\n",
       "       [0, 0],\n",
       "       [0, 0],\n",
       "       [0, 0],\n",
       "       [0, 0]])"
      ]
     },
     "execution_count": 203,
     "metadata": {},
     "output_type": "execute_result"
    }
   ],
   "source": [
    "np.zeros_like(b, dtype=int)"
   ]
  },
  {
   "cell_type": "markdown",
   "id": "f69cb476",
   "metadata": {},
   "source": [
    "-------------------"
   ]
  },
  {
   "cell_type": "markdown",
   "id": "b8bf5aa4",
   "metadata": {},
   "source": [
    "#### Full Like Array - It returns a full array of Constant element, with the same shape & type as of the given array."
   ]
  },
  {
   "cell_type": "markdown",
   "id": "4dbfac66",
   "metadata": {},
   "source": [
    "#### Syntax :\n",
    "    np.full_like(array, fill_value, dtype)"
   ]
  },
  {
   "cell_type": "code",
   "execution_count": 204,
   "id": "b947121c",
   "metadata": {},
   "outputs": [
    {
     "data": {
      "text/plain": [
       "array([21, 52, 93])"
      ]
     },
     "execution_count": 204,
     "metadata": {},
     "output_type": "execute_result"
    }
   ],
   "source": [
    "a"
   ]
  },
  {
   "cell_type": "code",
   "execution_count": 205,
   "id": "1b8fe4d2",
   "metadata": {},
   "outputs": [
    {
     "data": {
      "text/plain": [
       "array([7, 7, 7])"
      ]
     },
     "execution_count": 205,
     "metadata": {},
     "output_type": "execute_result"
    }
   ],
   "source": [
    "np.full_like(a, 7)"
   ]
  },
  {
   "cell_type": "code",
   "execution_count": 206,
   "id": "ecb8596c",
   "metadata": {},
   "outputs": [],
   "source": [
    "c = np.random.randn(2,3,4)"
   ]
  },
  {
   "cell_type": "code",
   "execution_count": 207,
   "id": "3cb46dc0",
   "metadata": {},
   "outputs": [
    {
     "data": {
      "text/plain": [
       "array([[[ 0.02377853,  0.21807651,  0.77207401,  0.68076235],\n",
       "        [ 0.309474  , -0.36808385,  0.6959875 ,  1.31452324],\n",
       "        [-0.43563099,  1.37728084, -0.79228115,  0.54121978]],\n",
       "\n",
       "       [[-0.35116014,  0.70830243,  0.62288634, -0.77619089],\n",
       "        [ 0.83353328, -0.06688272,  0.85237887,  1.20283884],\n",
       "        [-0.30305979,  1.66647659,  0.57923742, -1.02830609]]])"
      ]
     },
     "execution_count": 207,
     "metadata": {},
     "output_type": "execute_result"
    }
   ],
   "source": [
    "c"
   ]
  },
  {
   "cell_type": "code",
   "execution_count": 208,
   "id": "e9141e30",
   "metadata": {},
   "outputs": [
    {
     "data": {
      "text/plain": [
       "array([[[71., 71., 71., 71.],\n",
       "        [71., 71., 71., 71.],\n",
       "        [71., 71., 71., 71.]],\n",
       "\n",
       "       [[71., 71., 71., 71.],\n",
       "        [71., 71., 71., 71.],\n",
       "        [71., 71., 71., 71.]]])"
      ]
     },
     "execution_count": 208,
     "metadata": {},
     "output_type": "execute_result"
    }
   ],
   "source": [
    "np.full_like(c, 71)"
   ]
  },
  {
   "cell_type": "code",
   "execution_count": 209,
   "id": "a3214eaa",
   "metadata": {},
   "outputs": [
    {
     "data": {
      "text/plain": [
       "array([[[71, 71, 71, 71],\n",
       "        [71, 71, 71, 71],\n",
       "        [71, 71, 71, 71]],\n",
       "\n",
       "       [[71, 71, 71, 71],\n",
       "        [71, 71, 71, 71],\n",
       "        [71, 71, 71, 71]]])"
      ]
     },
     "execution_count": 209,
     "metadata": {},
     "output_type": "execute_result"
    }
   ],
   "source": [
    "np.full_like(c, 71, dtype = int)"
   ]
  },
  {
   "cell_type": "code",
   "execution_count": 210,
   "id": "48d9fa3c",
   "metadata": {},
   "outputs": [
    {
     "data": {
      "text/plain": [
       "array([[[-71, -71, -71, -71],\n",
       "        [-71, -71, -71, -71],\n",
       "        [-71, -71, -71, -71]],\n",
       "\n",
       "       [[-71, -71, -71, -71],\n",
       "        [-71, -71, -71, -71],\n",
       "        [-71, -71, -71, -71]]])"
      ]
     },
     "execution_count": 210,
     "metadata": {},
     "output_type": "execute_result"
    }
   ],
   "source": [
    "np.full_like(c, -71, dtype = int)"
   ]
  },
  {
   "cell_type": "markdown",
   "id": "ea6de5b3",
   "metadata": {},
   "source": [
    "-------------"
   ]
  },
  {
   "cell_type": "markdown",
   "id": "c4702223",
   "metadata": {},
   "source": [
    "## Diagonal Function - It is used to extract the diagonal elements of an array, or , used to construct a new diagonal array"
   ]
  },
  {
   "cell_type": "markdown",
   "id": "c1447071",
   "metadata": {},
   "source": [
    "#### Syntax :\n",
    "    np.diag(a, k)"
   ]
  },
  {
   "cell_type": "markdown",
   "id": "1a1fe488",
   "metadata": {},
   "source": [
    "#### Note :\n",
    "- If 'a' is a 2-D array, it extracts the diagonal elements. \n",
    "- If 'a' is a 1-D array, it constructs a 2-D array with elements of 'a' on diagonal.\n",
    "- By default, k is 0. Use k>0 for diagonals above the main diagonal. Use k<0 for diagonals below the main diagonal."
   ]
  },
  {
   "cell_type": "code",
   "execution_count": 211,
   "id": "c82bec4d",
   "metadata": {},
   "outputs": [
    {
     "data": {
      "text/plain": [
       "array([[21,  0,  0],\n",
       "       [ 0, 52,  0],\n",
       "       [ 0,  0, 93]])"
      ]
     },
     "execution_count": 211,
     "metadata": {},
     "output_type": "execute_result"
    }
   ],
   "source": [
    "np.diag(a)"
   ]
  },
  {
   "cell_type": "code",
   "execution_count": 212,
   "id": "7fc92fb1",
   "metadata": {},
   "outputs": [],
   "source": [
    "a = np.array([[1,2,3],[4,5,6],[7,8,9]])"
   ]
  },
  {
   "cell_type": "code",
   "execution_count": 213,
   "id": "6dda9fe3",
   "metadata": {},
   "outputs": [
    {
     "data": {
      "text/plain": [
       "array([[1, 2, 3],\n",
       "       [4, 5, 6],\n",
       "       [7, 8, 9]])"
      ]
     },
     "execution_count": 213,
     "metadata": {},
     "output_type": "execute_result"
    }
   ],
   "source": [
    "a"
   ]
  },
  {
   "cell_type": "code",
   "execution_count": 214,
   "id": "733b61bf",
   "metadata": {},
   "outputs": [
    {
     "data": {
      "text/plain": [
       "2"
      ]
     },
     "execution_count": 214,
     "metadata": {},
     "output_type": "execute_result"
    }
   ],
   "source": [
    "a.ndim"
   ]
  },
  {
   "cell_type": "code",
   "execution_count": 215,
   "id": "db931fa2",
   "metadata": {},
   "outputs": [
    {
     "data": {
      "text/plain": [
       "array([1, 5, 9])"
      ]
     },
     "execution_count": 215,
     "metadata": {},
     "output_type": "execute_result"
    }
   ],
   "source": [
    "np.diag(a)"
   ]
  },
  {
   "cell_type": "code",
   "execution_count": 216,
   "id": "030aefa4",
   "metadata": {},
   "outputs": [],
   "source": [
    "b = np.array([1,2,3,4,5])"
   ]
  },
  {
   "cell_type": "code",
   "execution_count": 217,
   "id": "eef9b56a",
   "metadata": {},
   "outputs": [
    {
     "data": {
      "text/plain": [
       "array([1, 2, 3, 4, 5])"
      ]
     },
     "execution_count": 217,
     "metadata": {},
     "output_type": "execute_result"
    }
   ],
   "source": [
    "b"
   ]
  },
  {
   "cell_type": "code",
   "execution_count": 218,
   "id": "c47dce20",
   "metadata": {},
   "outputs": [
    {
     "data": {
      "text/plain": [
       "1"
      ]
     },
     "execution_count": 218,
     "metadata": {},
     "output_type": "execute_result"
    }
   ],
   "source": [
    "b.ndim"
   ]
  },
  {
   "cell_type": "code",
   "execution_count": 219,
   "id": "d8522893",
   "metadata": {},
   "outputs": [
    {
     "data": {
      "text/plain": [
       "array([[1, 0, 0, 0, 0],\n",
       "       [0, 2, 0, 0, 0],\n",
       "       [0, 0, 3, 0, 0],\n",
       "       [0, 0, 0, 4, 0],\n",
       "       [0, 0, 0, 0, 5]])"
      ]
     },
     "execution_count": 219,
     "metadata": {},
     "output_type": "execute_result"
    }
   ],
   "source": [
    "np.diag(b)"
   ]
  },
  {
   "cell_type": "code",
   "execution_count": 220,
   "id": "1cea11f5",
   "metadata": {},
   "outputs": [
    {
     "data": {
      "text/plain": [
       "2"
      ]
     },
     "execution_count": 220,
     "metadata": {},
     "output_type": "execute_result"
    }
   ],
   "source": [
    "np.diag(b).ndim"
   ]
  },
  {
   "cell_type": "code",
   "execution_count": 221,
   "id": "eb0c9083",
   "metadata": {},
   "outputs": [
    {
     "data": {
      "text/plain": [
       "array([[1, 2, 3],\n",
       "       [4, 5, 6],\n",
       "       [7, 8, 9]])"
      ]
     },
     "execution_count": 221,
     "metadata": {},
     "output_type": "execute_result"
    }
   ],
   "source": [
    "a"
   ]
  },
  {
   "cell_type": "code",
   "execution_count": 222,
   "id": "0d558a45",
   "metadata": {},
   "outputs": [
    {
     "data": {
      "text/plain": [
       "array([1, 5, 9])"
      ]
     },
     "execution_count": 222,
     "metadata": {},
     "output_type": "execute_result"
    }
   ],
   "source": [
    "np.diag(a, k=0)"
   ]
  },
  {
   "cell_type": "code",
   "execution_count": 223,
   "id": "b7d51923",
   "metadata": {},
   "outputs": [
    {
     "data": {
      "text/plain": [
       "array([2, 6])"
      ]
     },
     "execution_count": 223,
     "metadata": {},
     "output_type": "execute_result"
    }
   ],
   "source": [
    "np.diag(a, k=1)"
   ]
  },
  {
   "cell_type": "code",
   "execution_count": 224,
   "id": "05fd20cb",
   "metadata": {},
   "outputs": [
    {
     "data": {
      "text/plain": [
       "array([3])"
      ]
     },
     "execution_count": 224,
     "metadata": {},
     "output_type": "execute_result"
    }
   ],
   "source": [
    "np.diag(a, k=2)"
   ]
  },
  {
   "cell_type": "code",
   "execution_count": 225,
   "id": "243f2e3f",
   "metadata": {},
   "outputs": [
    {
     "data": {
      "text/plain": [
       "array([4, 8])"
      ]
     },
     "execution_count": 225,
     "metadata": {},
     "output_type": "execute_result"
    }
   ],
   "source": [
    "np.diag(a, k=-1)"
   ]
  },
  {
   "cell_type": "code",
   "execution_count": 226,
   "id": "0bc84fcf",
   "metadata": {},
   "outputs": [
    {
     "data": {
      "text/plain": [
       "array([1, 2, 3, 4, 5])"
      ]
     },
     "execution_count": 226,
     "metadata": {},
     "output_type": "execute_result"
    }
   ],
   "source": [
    "b"
   ]
  },
  {
   "cell_type": "code",
   "execution_count": 227,
   "id": "3dc6f3e9",
   "metadata": {},
   "outputs": [
    {
     "data": {
      "text/plain": [
       "array([[1, 0, 0, 0, 0],\n",
       "       [0, 2, 0, 0, 0],\n",
       "       [0, 0, 3, 0, 0],\n",
       "       [0, 0, 0, 4, 0],\n",
       "       [0, 0, 0, 0, 5]])"
      ]
     },
     "execution_count": 227,
     "metadata": {},
     "output_type": "execute_result"
    }
   ],
   "source": [
    "np.diag(b, k=0)"
   ]
  },
  {
   "cell_type": "code",
   "execution_count": 228,
   "id": "07e872d5",
   "metadata": {},
   "outputs": [
    {
     "data": {
      "text/plain": [
       "array([[0, 0, 1, 0, 0, 0, 0],\n",
       "       [0, 0, 0, 2, 0, 0, 0],\n",
       "       [0, 0, 0, 0, 3, 0, 0],\n",
       "       [0, 0, 0, 0, 0, 4, 0],\n",
       "       [0, 0, 0, 0, 0, 0, 5],\n",
       "       [0, 0, 0, 0, 0, 0, 0],\n",
       "       [0, 0, 0, 0, 0, 0, 0]])"
      ]
     },
     "execution_count": 228,
     "metadata": {},
     "output_type": "execute_result"
    }
   ],
   "source": [
    "np.diag(b, k=2)"
   ]
  },
  {
   "cell_type": "code",
   "execution_count": 229,
   "id": "07f60af6",
   "metadata": {},
   "outputs": [
    {
     "data": {
      "text/plain": [
       "array([[0, 0, 0, 0, 0, 0],\n",
       "       [1, 0, 0, 0, 0, 0],\n",
       "       [0, 2, 0, 0, 0, 0],\n",
       "       [0, 0, 3, 0, 0, 0],\n",
       "       [0, 0, 0, 4, 0, 0],\n",
       "       [0, 0, 0, 0, 5, 0]])"
      ]
     },
     "execution_count": 229,
     "metadata": {},
     "output_type": "execute_result"
    }
   ],
   "source": [
    "np.diag(b, k=-1)"
   ]
  },
  {
   "cell_type": "markdown",
   "id": "ff0357fc",
   "metadata": {},
   "source": [
    "-----------"
   ]
  },
  {
   "cell_type": "markdown",
   "id": "c3dc79bf",
   "metadata": {},
   "source": [
    "## Transpose Function - It converts the Rows into Columns, and Columns into Rows"
   ]
  },
  {
   "cell_type": "markdown",
   "id": "e0b46652",
   "metadata": {},
   "source": [
    "#### Syntax\n",
    "    array.T\n",
    "    or,\n",
    "    np.transpose(array)"
   ]
  },
  {
   "cell_type": "code",
   "execution_count": 230,
   "id": "fe08aadc",
   "metadata": {},
   "outputs": [],
   "source": [
    "import numpy as np"
   ]
  },
  {
   "cell_type": "markdown",
   "id": "1b5aef6f",
   "metadata": {},
   "source": [
    "#### Transpose of a 2-D array"
   ]
  },
  {
   "cell_type": "code",
   "execution_count": 231,
   "id": "3ee537ca",
   "metadata": {},
   "outputs": [],
   "source": [
    "a= np.array([[1,2,3],[4,5,6]])"
   ]
  },
  {
   "cell_type": "code",
   "execution_count": 232,
   "id": "371ad89e",
   "metadata": {},
   "outputs": [
    {
     "data": {
      "text/plain": [
       "array([[1, 2, 3],\n",
       "       [4, 5, 6]])"
      ]
     },
     "execution_count": 232,
     "metadata": {},
     "output_type": "execute_result"
    }
   ],
   "source": [
    "a"
   ]
  },
  {
   "cell_type": "code",
   "execution_count": 233,
   "id": "042ceba6",
   "metadata": {},
   "outputs": [
    {
     "data": {
      "text/plain": [
       "array([[1, 4],\n",
       "       [2, 5],\n",
       "       [3, 6]])"
      ]
     },
     "execution_count": 233,
     "metadata": {},
     "output_type": "execute_result"
    }
   ],
   "source": [
    "a.T"
   ]
  },
  {
   "cell_type": "code",
   "execution_count": 234,
   "id": "0a1a1f78",
   "metadata": {},
   "outputs": [
    {
     "data": {
      "text/plain": [
       "(2, 3)"
      ]
     },
     "execution_count": 234,
     "metadata": {},
     "output_type": "execute_result"
    }
   ],
   "source": [
    "a.shape"
   ]
  },
  {
   "cell_type": "code",
   "execution_count": 236,
   "id": "625a0d11",
   "metadata": {},
   "outputs": [
    {
     "data": {
      "text/plain": [
       "(3, 2)"
      ]
     },
     "execution_count": 236,
     "metadata": {},
     "output_type": "execute_result"
    }
   ],
   "source": [
    "a.T.shape"
   ]
  },
  {
   "cell_type": "code",
   "execution_count": 237,
   "id": "f7b6d725",
   "metadata": {},
   "outputs": [
    {
     "data": {
      "text/plain": [
       "array([[1, 4],\n",
       "       [2, 5],\n",
       "       [3, 6]])"
      ]
     },
     "execution_count": 237,
     "metadata": {},
     "output_type": "execute_result"
    }
   ],
   "source": [
    "np.transpose(a)"
   ]
  },
  {
   "cell_type": "markdown",
   "id": "d73de5c9",
   "metadata": {},
   "source": [
    "## Transpose of a 1-D array"
   ]
  },
  {
   "cell_type": "code",
   "execution_count": 238,
   "id": "40a26869",
   "metadata": {},
   "outputs": [],
   "source": [
    "b = np.array([11,12,13,14,15,16])"
   ]
  },
  {
   "cell_type": "code",
   "execution_count": 239,
   "id": "74b9e46c",
   "metadata": {},
   "outputs": [
    {
     "data": {
      "text/plain": [
       "array([11, 12, 13, 14, 15, 16])"
      ]
     },
     "execution_count": 239,
     "metadata": {},
     "output_type": "execute_result"
    }
   ],
   "source": [
    "b"
   ]
  },
  {
   "cell_type": "code",
   "execution_count": 240,
   "id": "55ef8876",
   "metadata": {},
   "outputs": [
    {
     "data": {
      "text/plain": [
       "array([11, 12, 13, 14, 15, 16])"
      ]
     },
     "execution_count": 240,
     "metadata": {},
     "output_type": "execute_result"
    }
   ],
   "source": [
    "b.T"
   ]
  },
  {
   "cell_type": "code",
   "execution_count": 241,
   "id": "6964681b",
   "metadata": {},
   "outputs": [
    {
     "data": {
      "text/plain": [
       "(6,)"
      ]
     },
     "execution_count": 241,
     "metadata": {},
     "output_type": "execute_result"
    }
   ],
   "source": [
    "b.shape"
   ]
  },
  {
   "cell_type": "code",
   "execution_count": 242,
   "id": "f6aa8b75",
   "metadata": {},
   "outputs": [
    {
     "data": {
      "text/plain": [
       "(6,)"
      ]
     },
     "execution_count": 242,
     "metadata": {},
     "output_type": "execute_result"
    }
   ],
   "source": [
    "b.T.shape"
   ]
  },
  {
   "cell_type": "markdown",
   "id": "85e3129d",
   "metadata": {},
   "source": [
    "------------"
   ]
  },
  {
   "cell_type": "markdown",
   "id": "6d3ef9d4",
   "metadata": {},
   "source": [
    "## Transpose of a 3-D array"
   ]
  },
  {
   "cell_type": "code",
   "execution_count": 243,
   "id": "c6164d4e",
   "metadata": {},
   "outputs": [],
   "source": [
    "c= np.array([[[1,2,3],[4,5,6],[7,8,9]]])"
   ]
  },
  {
   "cell_type": "code",
   "execution_count": 244,
   "id": "b04a87a1",
   "metadata": {},
   "outputs": [
    {
     "data": {
      "text/plain": [
       "array([[[1, 2, 3],\n",
       "        [4, 5, 6],\n",
       "        [7, 8, 9]]])"
      ]
     },
     "execution_count": 244,
     "metadata": {},
     "output_type": "execute_result"
    }
   ],
   "source": [
    "c"
   ]
  },
  {
   "cell_type": "code",
   "execution_count": 245,
   "id": "5c030ec7",
   "metadata": {},
   "outputs": [
    {
     "data": {
      "text/plain": [
       "array([[[1],\n",
       "        [4],\n",
       "        [7]],\n",
       "\n",
       "       [[2],\n",
       "        [5],\n",
       "        [8]],\n",
       "\n",
       "       [[3],\n",
       "        [6],\n",
       "        [9]]])"
      ]
     },
     "execution_count": 245,
     "metadata": {},
     "output_type": "execute_result"
    }
   ],
   "source": [
    "c.T"
   ]
  },
  {
   "cell_type": "code",
   "execution_count": 246,
   "id": "7dd06a9f",
   "metadata": {},
   "outputs": [
    {
     "data": {
      "text/plain": [
       "(1, 3, 3)"
      ]
     },
     "execution_count": 246,
     "metadata": {},
     "output_type": "execute_result"
    }
   ],
   "source": [
    "c.shape"
   ]
  },
  {
   "cell_type": "code",
   "execution_count": 247,
   "id": "19ba52fd",
   "metadata": {},
   "outputs": [
    {
     "data": {
      "text/plain": [
       "(3, 3, 1)"
      ]
     },
     "execution_count": 247,
     "metadata": {},
     "output_type": "execute_result"
    }
   ],
   "source": [
    "c.T.shape"
   ]
  },
  {
   "cell_type": "markdown",
   "id": "b55b09ab",
   "metadata": {},
   "source": [
    "-------------"
   ]
  },
  {
   "cell_type": "markdown",
   "id": "6c45096f",
   "metadata": {},
   "source": [
    "### Unary Operators - Those operators that require only one operand.\n",
    "\n",
    "\n",
    "These functions can be applied row-wise or column-wise by setting an 'axis' parameter"
   ]
  },
  {
   "cell_type": "markdown",
   "id": "fb1ed3d2",
   "metadata": {},
   "source": [
    "Suppose 'a' is an array\n",
    "\n",
    "a.max() ,  a.max(axis=1) , a.max(axis=0) , a.sum()\n",
    "a.min() ,  a.min(axis=1) , a.min(axis=0) , np.sum(a, axis=1)"
   ]
  },
  {
   "cell_type": "code",
   "execution_count": 248,
   "id": "1ec9deb1",
   "metadata": {},
   "outputs": [],
   "source": [
    "a = np.array([1,12,35,49])"
   ]
  },
  {
   "cell_type": "code",
   "execution_count": 249,
   "id": "d11eabca",
   "metadata": {},
   "outputs": [
    {
     "data": {
      "text/plain": [
       "array([ 1, 12, 35, 49])"
      ]
     },
     "execution_count": 249,
     "metadata": {},
     "output_type": "execute_result"
    }
   ],
   "source": [
    "a"
   ]
  },
  {
   "cell_type": "code",
   "execution_count": 251,
   "id": "fd53c520",
   "metadata": {},
   "outputs": [
    {
     "data": {
      "text/plain": [
       "49"
      ]
     },
     "execution_count": 251,
     "metadata": {},
     "output_type": "execute_result"
    }
   ],
   "source": [
    "a.max()"
   ]
  },
  {
   "cell_type": "code",
   "execution_count": 252,
   "id": "f576bdbb",
   "metadata": {},
   "outputs": [
    {
     "data": {
      "text/plain": [
       "1"
      ]
     },
     "execution_count": 252,
     "metadata": {},
     "output_type": "execute_result"
    }
   ],
   "source": [
    "a.min()"
   ]
  },
  {
   "cell_type": "code",
   "execution_count": 253,
   "id": "9fa86f1d",
   "metadata": {},
   "outputs": [
    {
     "data": {
      "text/plain": [
       "97"
      ]
     },
     "execution_count": 253,
     "metadata": {},
     "output_type": "execute_result"
    }
   ],
   "source": [
    "a.sum()"
   ]
  },
  {
   "cell_type": "code",
   "execution_count": 254,
   "id": "39c21d2c",
   "metadata": {},
   "outputs": [],
   "source": [
    "b = np.array([[1,23,45],[56,39,91]])"
   ]
  },
  {
   "cell_type": "code",
   "execution_count": 255,
   "id": "9811d877",
   "metadata": {},
   "outputs": [
    {
     "data": {
      "text/plain": [
       "array([[ 1, 23, 45],\n",
       "       [56, 39, 91]])"
      ]
     },
     "execution_count": 255,
     "metadata": {},
     "output_type": "execute_result"
    }
   ],
   "source": [
    "b"
   ]
  },
  {
   "cell_type": "code",
   "execution_count": 256,
   "id": "0e6f9fbd",
   "metadata": {},
   "outputs": [
    {
     "data": {
      "text/plain": [
       "91"
      ]
     },
     "execution_count": 256,
     "metadata": {},
     "output_type": "execute_result"
    }
   ],
   "source": [
    "b.max()"
   ]
  },
  {
   "cell_type": "code",
   "execution_count": 258,
   "id": "888a3012",
   "metadata": {},
   "outputs": [
    {
     "data": {
      "text/plain": [
       "array([45, 91])"
      ]
     },
     "execution_count": 258,
     "metadata": {},
     "output_type": "execute_result"
    }
   ],
   "source": [
    "b.max(axis=1)"
   ]
  },
  {
   "cell_type": "code",
   "execution_count": 259,
   "id": "759445d6",
   "metadata": {},
   "outputs": [
    {
     "data": {
      "text/plain": [
       "array([56, 39, 91])"
      ]
     },
     "execution_count": 259,
     "metadata": {},
     "output_type": "execute_result"
    }
   ],
   "source": [
    "b.max(axis=0)"
   ]
  },
  {
   "cell_type": "code",
   "execution_count": 260,
   "id": "1438590c",
   "metadata": {},
   "outputs": [
    {
     "data": {
      "text/plain": [
       "1"
      ]
     },
     "execution_count": 260,
     "metadata": {},
     "output_type": "execute_result"
    }
   ],
   "source": [
    "b.min()"
   ]
  },
  {
   "cell_type": "code",
   "execution_count": 261,
   "id": "29be8907",
   "metadata": {},
   "outputs": [
    {
     "data": {
      "text/plain": [
       "array([ 1, 39])"
      ]
     },
     "execution_count": 261,
     "metadata": {},
     "output_type": "execute_result"
    }
   ],
   "source": [
    "b.min(axis=1)"
   ]
  },
  {
   "cell_type": "code",
   "execution_count": 262,
   "id": "cb2a7d2f",
   "metadata": {},
   "outputs": [
    {
     "data": {
      "text/plain": [
       "array([ 1, 23, 45])"
      ]
     },
     "execution_count": 262,
     "metadata": {},
     "output_type": "execute_result"
    }
   ],
   "source": [
    "b.min(axis=0)"
   ]
  },
  {
   "cell_type": "code",
   "execution_count": 263,
   "id": "2e9ae5a9",
   "metadata": {},
   "outputs": [
    {
     "data": {
      "text/plain": [
       "255"
      ]
     },
     "execution_count": 263,
     "metadata": {},
     "output_type": "execute_result"
    }
   ],
   "source": [
    "b.sum()"
   ]
  },
  {
   "cell_type": "code",
   "execution_count": 264,
   "id": "33041612",
   "metadata": {},
   "outputs": [
    {
     "data": {
      "text/plain": [
       "array([ 57,  62, 136])"
      ]
     },
     "execution_count": 264,
     "metadata": {},
     "output_type": "execute_result"
    }
   ],
   "source": [
    "b.sum(axis=0)"
   ]
  },
  {
   "cell_type": "code",
   "execution_count": 265,
   "id": "57d62a78",
   "metadata": {},
   "outputs": [
    {
     "data": {
      "text/plain": [
       "array([ 69, 186])"
      ]
     },
     "execution_count": 265,
     "metadata": {},
     "output_type": "execute_result"
    }
   ],
   "source": [
    "b.sum(axis=1)"
   ]
  },
  {
   "cell_type": "code",
   "execution_count": 266,
   "id": "ba827416",
   "metadata": {},
   "outputs": [],
   "source": [
    "c = np.arange(18)"
   ]
  },
  {
   "cell_type": "code",
   "execution_count": 267,
   "id": "0544d664",
   "metadata": {},
   "outputs": [
    {
     "data": {
      "text/plain": [
       "array([ 0,  1,  2,  3,  4,  5,  6,  7,  8,  9, 10, 11, 12, 13, 14, 15, 16,\n",
       "       17])"
      ]
     },
     "execution_count": 267,
     "metadata": {},
     "output_type": "execute_result"
    }
   ],
   "source": [
    "c"
   ]
  },
  {
   "cell_type": "code",
   "execution_count": 268,
   "id": "4fb7b54c",
   "metadata": {},
   "outputs": [],
   "source": [
    "c = np.arange(18).reshape(2,3,3)"
   ]
  },
  {
   "cell_type": "code",
   "execution_count": 269,
   "id": "6ca38cb5",
   "metadata": {},
   "outputs": [
    {
     "data": {
      "text/plain": [
       "array([[[ 0,  1,  2],\n",
       "        [ 3,  4,  5],\n",
       "        [ 6,  7,  8]],\n",
       "\n",
       "       [[ 9, 10, 11],\n",
       "        [12, 13, 14],\n",
       "        [15, 16, 17]]])"
      ]
     },
     "execution_count": 269,
     "metadata": {},
     "output_type": "execute_result"
    }
   ],
   "source": [
    "c"
   ]
  },
  {
   "cell_type": "code",
   "execution_count": 270,
   "id": "4b1a822b",
   "metadata": {},
   "outputs": [
    {
     "name": "stdout",
     "output_type": "stream",
     "text": [
      "[[[ 0  1  2]\n",
      "  [ 3  4  5]\n",
      "  [ 6  7  8]]\n",
      "\n",
      " [[ 9 10 11]\n",
      "  [12 13 14]\n",
      "  [15 16 17]]]\n"
     ]
    }
   ],
   "source": [
    "print(c)"
   ]
  },
  {
   "cell_type": "code",
   "execution_count": 271,
   "id": "036f70e7",
   "metadata": {},
   "outputs": [
    {
     "data": {
      "text/plain": [
       "17"
      ]
     },
     "execution_count": 271,
     "metadata": {},
     "output_type": "execute_result"
    }
   ],
   "source": [
    "c.max()"
   ]
  },
  {
   "cell_type": "code",
   "execution_count": 272,
   "id": "cc819ce0",
   "metadata": {},
   "outputs": [
    {
     "data": {
      "text/plain": [
       "0"
      ]
     },
     "execution_count": 272,
     "metadata": {},
     "output_type": "execute_result"
    }
   ],
   "source": [
    "c.min()"
   ]
  },
  {
   "cell_type": "code",
   "execution_count": 273,
   "id": "43178484",
   "metadata": {},
   "outputs": [
    {
     "data": {
      "text/plain": [
       "array([[ 6,  7,  8],\n",
       "       [15, 16, 17]])"
      ]
     },
     "execution_count": 273,
     "metadata": {},
     "output_type": "execute_result"
    }
   ],
   "source": [
    "c.max(axis=1)"
   ]
  },
  {
   "cell_type": "code",
   "execution_count": 274,
   "id": "6157482d",
   "metadata": {},
   "outputs": [
    {
     "data": {
      "text/plain": [
       "array([[ 9, 10, 11],\n",
       "       [12, 13, 14],\n",
       "       [15, 16, 17]])"
      ]
     },
     "execution_count": 274,
     "metadata": {},
     "output_type": "execute_result"
    }
   ],
   "source": [
    "c.max(axis=0)"
   ]
  },
  {
   "cell_type": "code",
   "execution_count": 276,
   "id": "b0ea3d42",
   "metadata": {},
   "outputs": [
    {
     "data": {
      "text/plain": [
       "array([[ 0,  1,  2],\n",
       "       [ 9, 10, 11]])"
      ]
     },
     "execution_count": 276,
     "metadata": {},
     "output_type": "execute_result"
    }
   ],
   "source": [
    "c.min(axis=1)"
   ]
  },
  {
   "cell_type": "code",
   "execution_count": 277,
   "id": "79ab58d7",
   "metadata": {},
   "outputs": [
    {
     "data": {
      "text/plain": [
       "array([[0, 1, 2],\n",
       "       [3, 4, 5],\n",
       "       [6, 7, 8]])"
      ]
     },
     "execution_count": 277,
     "metadata": {},
     "output_type": "execute_result"
    }
   ],
   "source": [
    "c.min(axis=0)"
   ]
  },
  {
   "cell_type": "code",
   "execution_count": 278,
   "id": "77c1e021",
   "metadata": {},
   "outputs": [
    {
     "data": {
      "text/plain": [
       "153"
      ]
     },
     "execution_count": 278,
     "metadata": {},
     "output_type": "execute_result"
    }
   ],
   "source": [
    "c.sum()"
   ]
  },
  {
   "cell_type": "code",
   "execution_count": 279,
   "id": "0bdb071a",
   "metadata": {},
   "outputs": [
    {
     "data": {
      "text/plain": [
       "array([[ 9, 12, 15],\n",
       "       [36, 39, 42]])"
      ]
     },
     "execution_count": 279,
     "metadata": {},
     "output_type": "execute_result"
    }
   ],
   "source": [
    "c.sum(axis=1)"
   ]
  },
  {
   "cell_type": "code",
   "execution_count": 280,
   "id": "def420e8",
   "metadata": {},
   "outputs": [
    {
     "data": {
      "text/plain": [
       "array([[ 9, 11, 13],\n",
       "       [15, 17, 19],\n",
       "       [21, 23, 25]])"
      ]
     },
     "execution_count": 280,
     "metadata": {},
     "output_type": "execute_result"
    }
   ],
   "source": [
    "c.sum(axis=0)"
   ]
  },
  {
   "cell_type": "markdown",
   "id": "3210675e",
   "metadata": {},
   "source": [
    "----------"
   ]
  },
  {
   "cell_type": "markdown",
   "id": "4b3de10b",
   "metadata": {},
   "source": [
    "## Vstack or Hstack is used to combine two or more arrays to form a new array."
   ]
  },
  {
   "cell_type": "markdown",
   "id": "b373f006",
   "metadata": {},
   "source": [
    "- Vstack - Combine the arrays vertically.\n",
    "- Hstack - Combine the arrays horizontally."
   ]
  },
  {
   "cell_type": "markdown",
   "id": "a0b22302",
   "metadata": {},
   "source": [
    "### In 1-D Ary"
   ]
  },
  {
   "cell_type": "code",
   "execution_count": 281,
   "id": "cbbd25a0",
   "metadata": {},
   "outputs": [],
   "source": [
    "a = np.array([1,2,3,4,5])"
   ]
  },
  {
   "cell_type": "code",
   "execution_count": 282,
   "id": "059744a6",
   "metadata": {},
   "outputs": [
    {
     "data": {
      "text/plain": [
       "array([1, 2, 3, 4, 5])"
      ]
     },
     "execution_count": 282,
     "metadata": {},
     "output_type": "execute_result"
    }
   ],
   "source": [
    "a"
   ]
  },
  {
   "cell_type": "code",
   "execution_count": 283,
   "id": "1e7993b7",
   "metadata": {},
   "outputs": [],
   "source": [
    "b = np.array([6,7,8,9,10])"
   ]
  },
  {
   "cell_type": "code",
   "execution_count": 284,
   "id": "c886d430",
   "metadata": {},
   "outputs": [
    {
     "data": {
      "text/plain": [
       "array([ 6,  7,  8,  9, 10])"
      ]
     },
     "execution_count": 284,
     "metadata": {},
     "output_type": "execute_result"
    }
   ],
   "source": [
    "b"
   ]
  },
  {
   "cell_type": "code",
   "execution_count": 285,
   "id": "55d65ca3",
   "metadata": {},
   "outputs": [
    {
     "data": {
      "text/plain": [
       "array([[ 1,  2,  3,  4,  5],\n",
       "       [ 6,  7,  8,  9, 10]])"
      ]
     },
     "execution_count": 285,
     "metadata": {},
     "output_type": "execute_result"
    }
   ],
   "source": [
    "np.vstack((a,b))"
   ]
  },
  {
   "cell_type": "code",
   "execution_count": 287,
   "id": "3cc89c3f",
   "metadata": {},
   "outputs": [
    {
     "data": {
      "text/plain": [
       "2"
      ]
     },
     "execution_count": 287,
     "metadata": {},
     "output_type": "execute_result"
    }
   ],
   "source": [
    "np.vstack((a,b)).ndim"
   ]
  },
  {
   "cell_type": "code",
   "execution_count": 286,
   "id": "a46e274c",
   "metadata": {},
   "outputs": [
    {
     "data": {
      "text/plain": [
       "array([ 1,  2,  3,  4,  5,  6,  7,  8,  9, 10])"
      ]
     },
     "execution_count": 286,
     "metadata": {},
     "output_type": "execute_result"
    }
   ],
   "source": [
    "np.hstack((a,b))"
   ]
  },
  {
   "cell_type": "code",
   "execution_count": 288,
   "id": "c2d8d29e",
   "metadata": {},
   "outputs": [
    {
     "data": {
      "text/plain": [
       "1"
      ]
     },
     "execution_count": 288,
     "metadata": {},
     "output_type": "execute_result"
    }
   ],
   "source": [
    "np.hstack((a,b)).ndim"
   ]
  },
  {
   "cell_type": "markdown",
   "id": "ac035da5",
   "metadata": {},
   "source": [
    "## In 2-D array"
   ]
  },
  {
   "cell_type": "code",
   "execution_count": 289,
   "id": "bdf4557d",
   "metadata": {},
   "outputs": [],
   "source": [
    "p = np.array([[1,2,3,4],[5,6,7,8]])"
   ]
  },
  {
   "cell_type": "code",
   "execution_count": 290,
   "id": "9b0a6c89",
   "metadata": {},
   "outputs": [
    {
     "data": {
      "text/plain": [
       "array([[1, 2, 3, 4],\n",
       "       [5, 6, 7, 8]])"
      ]
     },
     "execution_count": 290,
     "metadata": {},
     "output_type": "execute_result"
    }
   ],
   "source": [
    "p"
   ]
  },
  {
   "cell_type": "code",
   "execution_count": 291,
   "id": "93c6fe4d",
   "metadata": {},
   "outputs": [],
   "source": [
    "q = np.array([[9,10,11,12],[13,14,15,16]])"
   ]
  },
  {
   "cell_type": "code",
   "execution_count": 292,
   "id": "eb565cf3",
   "metadata": {},
   "outputs": [
    {
     "data": {
      "text/plain": [
       "array([[ 9, 10, 11, 12],\n",
       "       [13, 14, 15, 16]])"
      ]
     },
     "execution_count": 292,
     "metadata": {},
     "output_type": "execute_result"
    }
   ],
   "source": [
    "q"
   ]
  },
  {
   "cell_type": "code",
   "execution_count": 294,
   "id": "266eb614",
   "metadata": {},
   "outputs": [],
   "source": [
    "v = np.vstack((p,q))"
   ]
  },
  {
   "cell_type": "code",
   "execution_count": 295,
   "id": "4958a0cd",
   "metadata": {},
   "outputs": [
    {
     "data": {
      "text/plain": [
       "array([[ 1,  2,  3,  4],\n",
       "       [ 5,  6,  7,  8],\n",
       "       [ 9, 10, 11, 12],\n",
       "       [13, 14, 15, 16]])"
      ]
     },
     "execution_count": 295,
     "metadata": {},
     "output_type": "execute_result"
    }
   ],
   "source": [
    "v"
   ]
  },
  {
   "cell_type": "code",
   "execution_count": 296,
   "id": "3727922c",
   "metadata": {},
   "outputs": [
    {
     "data": {
      "text/plain": [
       "2"
      ]
     },
     "execution_count": 296,
     "metadata": {},
     "output_type": "execute_result"
    }
   ],
   "source": [
    "v.ndim"
   ]
  },
  {
   "cell_type": "code",
   "execution_count": 297,
   "id": "e890a045",
   "metadata": {},
   "outputs": [],
   "source": [
    "h = np.hstack((p,q))"
   ]
  },
  {
   "cell_type": "code",
   "execution_count": 298,
   "id": "f8657544",
   "metadata": {},
   "outputs": [
    {
     "data": {
      "text/plain": [
       "array([[ 1,  2,  3,  4,  9, 10, 11, 12],\n",
       "       [ 5,  6,  7,  8, 13, 14, 15, 16]])"
      ]
     },
     "execution_count": 298,
     "metadata": {},
     "output_type": "execute_result"
    }
   ],
   "source": [
    "h"
   ]
  },
  {
   "cell_type": "code",
   "execution_count": 299,
   "id": "b9599308",
   "metadata": {},
   "outputs": [
    {
     "data": {
      "text/plain": [
       "2"
      ]
     },
     "execution_count": 299,
     "metadata": {},
     "output_type": "execute_result"
    }
   ],
   "source": [
    "h.ndim"
   ]
  },
  {
   "cell_type": "markdown",
   "id": "b8c5f937",
   "metadata": {},
   "source": [
    "## In 3-D array"
   ]
  },
  {
   "cell_type": "code",
   "execution_count": 300,
   "id": "2a7bf68d",
   "metadata": {},
   "outputs": [],
   "source": [
    "x = np.array([[[1,2,3],[4,5,6],[7,8,9]]])"
   ]
  },
  {
   "cell_type": "code",
   "execution_count": 301,
   "id": "dc0242dd",
   "metadata": {},
   "outputs": [
    {
     "data": {
      "text/plain": [
       "array([[[1, 2, 3],\n",
       "        [4, 5, 6],\n",
       "        [7, 8, 9]]])"
      ]
     },
     "execution_count": 301,
     "metadata": {},
     "output_type": "execute_result"
    }
   ],
   "source": [
    "x"
   ]
  },
  {
   "cell_type": "code",
   "execution_count": 302,
   "id": "6e9d9eb4",
   "metadata": {},
   "outputs": [],
   "source": [
    "y = np.array([[[10,11,12],[13,14,15],[16,17,18]]])"
   ]
  },
  {
   "cell_type": "code",
   "execution_count": 303,
   "id": "9a8ecac0",
   "metadata": {},
   "outputs": [
    {
     "data": {
      "text/plain": [
       "array([[[10, 11, 12],\n",
       "        [13, 14, 15],\n",
       "        [16, 17, 18]]])"
      ]
     },
     "execution_count": 303,
     "metadata": {},
     "output_type": "execute_result"
    }
   ],
   "source": [
    "y"
   ]
  },
  {
   "cell_type": "code",
   "execution_count": 304,
   "id": "d8637beb",
   "metadata": {},
   "outputs": [
    {
     "data": {
      "text/plain": [
       "array([[[ 1,  2,  3],\n",
       "        [ 4,  5,  6],\n",
       "        [ 7,  8,  9]],\n",
       "\n",
       "       [[10, 11, 12],\n",
       "        [13, 14, 15],\n",
       "        [16, 17, 18]]])"
      ]
     },
     "execution_count": 304,
     "metadata": {},
     "output_type": "execute_result"
    }
   ],
   "source": [
    "np.vstack((x,y))"
   ]
  },
  {
   "cell_type": "code",
   "execution_count": 305,
   "id": "f281ef0d",
   "metadata": {},
   "outputs": [
    {
     "data": {
      "text/plain": [
       "3"
      ]
     },
     "execution_count": 305,
     "metadata": {},
     "output_type": "execute_result"
    }
   ],
   "source": [
    "np.vstack((x,y)).ndim"
   ]
  },
  {
   "cell_type": "code",
   "execution_count": 306,
   "id": "a5243f9e",
   "metadata": {},
   "outputs": [
    {
     "data": {
      "text/plain": [
       "array([[[ 1,  2,  3],\n",
       "        [ 4,  5,  6],\n",
       "        [ 7,  8,  9],\n",
       "        [10, 11, 12],\n",
       "        [13, 14, 15],\n",
       "        [16, 17, 18]]])"
      ]
     },
     "execution_count": 306,
     "metadata": {},
     "output_type": "execute_result"
    }
   ],
   "source": [
    "np.hstack((x,y))"
   ]
  },
  {
   "cell_type": "code",
   "execution_count": 307,
   "id": "32431c4b",
   "metadata": {},
   "outputs": [
    {
     "data": {
      "text/plain": [
       "3"
      ]
     },
     "execution_count": 307,
     "metadata": {},
     "output_type": "execute_result"
    }
   ],
   "source": [
    "np.hstack((x,y)).ndim"
   ]
  },
  {
   "cell_type": "code",
   "execution_count": 308,
   "id": "8e4f83df",
   "metadata": {},
   "outputs": [
    {
     "data": {
      "text/plain": [
       "(1, 6, 3)"
      ]
     },
     "execution_count": 308,
     "metadata": {},
     "output_type": "execute_result"
    }
   ],
   "source": [
    "np.hstack((x,y)).shape"
   ]
  },
  {
   "cell_type": "code",
   "execution_count": 310,
   "id": "9bc97c5d",
   "metadata": {},
   "outputs": [
    {
     "data": {
      "text/plain": [
       "(2, 3, 3)"
      ]
     },
     "execution_count": 310,
     "metadata": {},
     "output_type": "execute_result"
    }
   ],
   "source": [
    "np.vstack((x,y)).shape"
   ]
  },
  {
   "cell_type": "markdown",
   "id": "1eac7a06",
   "metadata": {},
   "source": [
    "------------"
   ]
  },
  {
   "cell_type": "markdown",
   "id": "e4242aad",
   "metadata": {},
   "source": [
    "### Indexing is used to obtain particular element(s) or row(s) or column(s) from the numpy array(s)"
   ]
  },
  {
   "cell_type": "markdown",
   "id": "2dfca8fc",
   "metadata": {},
   "source": [
    "Here, we pass the Index of the element to access it"
   ]
  },
  {
   "cell_type": "markdown",
   "id": "92b4ffc2",
   "metadata": {},
   "source": [
    "The Index starts from 0, not from 1"
   ]
  },
  {
   "cell_type": "markdown",
   "id": "a43888cf",
   "metadata": {},
   "source": [
    "It returns elements till \"stop index - 1\" index"
   ]
  },
  {
   "cell_type": "markdown",
   "id": "abf2689a",
   "metadata": {},
   "source": [
    "#### Indexing in 1-D Array"
   ]
  },
  {
   "cell_type": "markdown",
   "id": "2bbd07c4",
   "metadata": {},
   "source": [
    "Format : array[start index : stop index]"
   ]
  },
  {
   "cell_type": "code",
   "execution_count": 313,
   "id": "fb64dd24",
   "metadata": {},
   "outputs": [],
   "source": [
    "a = np.array([1,22,34,46,58])"
   ]
  },
  {
   "cell_type": "code",
   "execution_count": 314,
   "id": "b3f17fa7",
   "metadata": {},
   "outputs": [
    {
     "data": {
      "text/plain": [
       "array([ 1, 22, 34, 46, 58])"
      ]
     },
     "execution_count": 314,
     "metadata": {},
     "output_type": "execute_result"
    }
   ],
   "source": [
    "a"
   ]
  },
  {
   "cell_type": "code",
   "execution_count": 315,
   "id": "72a780ca",
   "metadata": {},
   "outputs": [
    {
     "data": {
      "text/plain": [
       "1"
      ]
     },
     "execution_count": 315,
     "metadata": {},
     "output_type": "execute_result"
    }
   ],
   "source": [
    "a[0]"
   ]
  },
  {
   "cell_type": "code",
   "execution_count": 317,
   "id": "ea304dc2",
   "metadata": {},
   "outputs": [
    {
     "data": {
      "text/plain": [
       "46"
      ]
     },
     "execution_count": 317,
     "metadata": {},
     "output_type": "execute_result"
    }
   ],
   "source": [
    "a[3]"
   ]
  },
  {
   "cell_type": "code",
   "execution_count": 318,
   "id": "60551087",
   "metadata": {},
   "outputs": [
    {
     "data": {
      "text/plain": [
       "array([ 1, 22, 34, 46, 58])"
      ]
     },
     "execution_count": 318,
     "metadata": {},
     "output_type": "execute_result"
    }
   ],
   "source": [
    "a[:]"
   ]
  },
  {
   "cell_type": "code",
   "execution_count": 319,
   "id": "a0328075",
   "metadata": {},
   "outputs": [
    {
     "data": {
      "text/plain": [
       "array([ 1, 22, 34, 46, 58])"
      ]
     },
     "execution_count": 319,
     "metadata": {},
     "output_type": "execute_result"
    }
   ],
   "source": [
    "a[0:]"
   ]
  },
  {
   "cell_type": "code",
   "execution_count": 321,
   "id": "50fa0a09",
   "metadata": {},
   "outputs": [
    {
     "data": {
      "text/plain": [
       "58"
      ]
     },
     "execution_count": 321,
     "metadata": {},
     "output_type": "execute_result"
    }
   ],
   "source": [
    "a[-1]"
   ]
  },
  {
   "cell_type": "code",
   "execution_count": 322,
   "id": "f80ae191",
   "metadata": {},
   "outputs": [
    {
     "data": {
      "text/plain": [
       "array([34, 46, 58])"
      ]
     },
     "execution_count": 322,
     "metadata": {},
     "output_type": "execute_result"
    }
   ],
   "source": [
    "a[2:]"
   ]
  },
  {
   "cell_type": "code",
   "execution_count": 323,
   "id": "49881dd1",
   "metadata": {},
   "outputs": [
    {
     "data": {
      "text/plain": [
       "array([1])"
      ]
     },
     "execution_count": 323,
     "metadata": {},
     "output_type": "execute_result"
    }
   ],
   "source": [
    "a[:1]"
   ]
  },
  {
   "cell_type": "code",
   "execution_count": 324,
   "id": "2900f470",
   "metadata": {},
   "outputs": [
    {
     "data": {
      "text/plain": [
       "array([ 1, 22, 34, 46, 58])"
      ]
     },
     "execution_count": 324,
     "metadata": {},
     "output_type": "execute_result"
    }
   ],
   "source": [
    "a[:5]"
   ]
  },
  {
   "cell_type": "code",
   "execution_count": 326,
   "id": "44831b8a",
   "metadata": {},
   "outputs": [
    {
     "data": {
      "text/plain": [
       "array([ 1, 22, 34, 46])"
      ]
     },
     "execution_count": 326,
     "metadata": {},
     "output_type": "execute_result"
    }
   ],
   "source": [
    "a[:4]"
   ]
  },
  {
   "cell_type": "code",
   "execution_count": 327,
   "id": "593ed23f",
   "metadata": {},
   "outputs": [
    {
     "data": {
      "text/plain": [
       "array([22])"
      ]
     },
     "execution_count": 327,
     "metadata": {},
     "output_type": "execute_result"
    }
   ],
   "source": [
    "a[1:2]"
   ]
  },
  {
   "cell_type": "code",
   "execution_count": 328,
   "id": "9e3d1a23",
   "metadata": {},
   "outputs": [
    {
     "data": {
      "text/plain": [
       "array([34, 46])"
      ]
     },
     "execution_count": 328,
     "metadata": {},
     "output_type": "execute_result"
    }
   ],
   "source": [
    "a[2:-1]"
   ]
  },
  {
   "cell_type": "code",
   "execution_count": 330,
   "id": "45d9333c",
   "metadata": {},
   "outputs": [
    {
     "data": {
      "text/plain": [
       "34"
      ]
     },
     "execution_count": 330,
     "metadata": {},
     "output_type": "execute_result"
    }
   ],
   "source": [
    "a.T[2]"
   ]
  },
  {
   "cell_type": "markdown",
   "id": "57b962f1",
   "metadata": {},
   "source": [
    "# Indexing in 2-D array"
   ]
  },
  {
   "cell_type": "code",
   "execution_count": 335,
   "id": "2abfcc00",
   "metadata": {},
   "outputs": [],
   "source": [
    "a = np.array([[11,12,13,14],[15,16,17,18]])"
   ]
  },
  {
   "cell_type": "code",
   "execution_count": 336,
   "id": "bddc6969",
   "metadata": {},
   "outputs": [
    {
     "data": {
      "text/plain": [
       "array([[11, 12, 13, 14],\n",
       "       [15, 16, 17, 18]])"
      ]
     },
     "execution_count": 336,
     "metadata": {},
     "output_type": "execute_result"
    }
   ],
   "source": [
    "a"
   ]
  },
  {
   "cell_type": "code",
   "execution_count": 337,
   "id": "05cd0b50",
   "metadata": {},
   "outputs": [
    {
     "data": {
      "text/plain": [
       "array([11, 12, 13, 14])"
      ]
     },
     "execution_count": 337,
     "metadata": {},
     "output_type": "execute_result"
    }
   ],
   "source": [
    "a[0]"
   ]
  },
  {
   "cell_type": "code",
   "execution_count": 339,
   "id": "1a3ea568",
   "metadata": {},
   "outputs": [
    {
     "data": {
      "text/plain": [
       "array([15, 16, 17, 18])"
      ]
     },
     "execution_count": 339,
     "metadata": {},
     "output_type": "execute_result"
    }
   ],
   "source": [
    "a[1]"
   ]
  },
  {
   "cell_type": "code",
   "execution_count": 340,
   "id": "9a5327f6",
   "metadata": {},
   "outputs": [
    {
     "data": {
      "text/plain": [
       "array([[11, 12, 13, 14],\n",
       "       [15, 16, 17, 18]])"
      ]
     },
     "execution_count": 340,
     "metadata": {},
     "output_type": "execute_result"
    }
   ],
   "source": [
    "a[:]"
   ]
  },
  {
   "cell_type": "code",
   "execution_count": 341,
   "id": "085f468b",
   "metadata": {},
   "outputs": [
    {
     "data": {
      "text/plain": [
       "array([12])"
      ]
     },
     "execution_count": 341,
     "metadata": {},
     "output_type": "execute_result"
    }
   ],
   "source": [
    "a[0 , 1:2]"
   ]
  },
  {
   "cell_type": "code",
   "execution_count": 342,
   "id": "d48a5ba0",
   "metadata": {},
   "outputs": [
    {
     "data": {
      "text/plain": [
       "array([17])"
      ]
     },
     "execution_count": 342,
     "metadata": {},
     "output_type": "execute_result"
    }
   ],
   "source": [
    "a[1, 2:3]"
   ]
  },
  {
   "cell_type": "code",
   "execution_count": 343,
   "id": "bd22f9fb",
   "metadata": {},
   "outputs": [
    {
     "data": {
      "text/plain": [
       "array([15, 16, 17, 18])"
      ]
     },
     "execution_count": 343,
     "metadata": {},
     "output_type": "execute_result"
    }
   ],
   "source": [
    "a[a>14]"
   ]
  },
  {
   "cell_type": "code",
   "execution_count": 344,
   "id": "930b7b6a",
   "metadata": {},
   "outputs": [
    {
     "data": {
      "text/plain": [
       "array([11, 12, 13, 14, 15])"
      ]
     },
     "execution_count": 344,
     "metadata": {},
     "output_type": "execute_result"
    }
   ],
   "source": [
    " a[a<16] "
   ]
  },
  {
   "cell_type": "markdown",
   "id": "2fd6308a",
   "metadata": {},
   "source": [
    "------------"
   ]
  },
  {
   "cell_type": "markdown",
   "id": "07cacb80",
   "metadata": {},
   "source": [
    "## Indexing in 3-D array"
   ]
  },
  {
   "cell_type": "code",
   "execution_count": 358,
   "id": "503f49d5",
   "metadata": {},
   "outputs": [],
   "source": [
    "c = np.arange(18).reshape(2,3,3)"
   ]
  },
  {
   "cell_type": "code",
   "execution_count": 359,
   "id": "ab44627e",
   "metadata": {},
   "outputs": [
    {
     "data": {
      "text/plain": [
       "array([[[ 0,  1,  2],\n",
       "        [ 3,  4,  5],\n",
       "        [ 6,  7,  8]],\n",
       "\n",
       "       [[ 9, 10, 11],\n",
       "        [12, 13, 14],\n",
       "        [15, 16, 17]]])"
      ]
     },
     "execution_count": 359,
     "metadata": {},
     "output_type": "execute_result"
    }
   ],
   "source": [
    "c"
   ]
  },
  {
   "cell_type": "code",
   "execution_count": 360,
   "id": "f57b3a70",
   "metadata": {},
   "outputs": [
    {
     "data": {
      "text/plain": [
       "array([[0, 1, 2],\n",
       "       [3, 4, 5],\n",
       "       [6, 7, 8]])"
      ]
     },
     "execution_count": 360,
     "metadata": {},
     "output_type": "execute_result"
    }
   ],
   "source": [
    "c[0]"
   ]
  },
  {
   "cell_type": "code",
   "execution_count": 361,
   "id": "2f786256",
   "metadata": {},
   "outputs": [
    {
     "data": {
      "text/plain": [
       "array([[ 9, 10, 11],\n",
       "       [12, 13, 14],\n",
       "       [15, 16, 17]])"
      ]
     },
     "execution_count": 361,
     "metadata": {},
     "output_type": "execute_result"
    }
   ],
   "source": [
    "c[1]"
   ]
  },
  {
   "cell_type": "code",
   "execution_count": 363,
   "id": "f8a6f528",
   "metadata": {},
   "outputs": [
    {
     "data": {
      "text/plain": [
       "array([[[ 0,  1,  2],\n",
       "        [ 3,  4,  5],\n",
       "        [ 6,  7,  8]],\n",
       "\n",
       "       [[ 9, 10, 11],\n",
       "        [12, 13, 14],\n",
       "        [15, 16, 17]]])"
      ]
     },
     "execution_count": 363,
     "metadata": {},
     "output_type": "execute_result"
    }
   ],
   "source": [
    "c[:]"
   ]
  },
  {
   "cell_type": "code",
   "execution_count": 365,
   "id": "fc145c96",
   "metadata": {},
   "outputs": [
    {
     "data": {
      "text/plain": [
       "array([[3, 4, 5],\n",
       "       [6, 7, 8]])"
      ]
     },
     "execution_count": 365,
     "metadata": {},
     "output_type": "execute_result"
    }
   ],
   "source": [
    "c[0, 1:3, :]"
   ]
  },
  {
   "cell_type": "code",
   "execution_count": 366,
   "id": "91d553e5",
   "metadata": {},
   "outputs": [
    {
     "data": {
      "text/plain": [
       "array([0, 1, 2, 3, 4, 5, 6, 7, 8, 9])"
      ]
     },
     "execution_count": 366,
     "metadata": {},
     "output_type": "execute_result"
    }
   ],
   "source": [
    "c[c<10]"
   ]
  },
  {
   "cell_type": "code",
   "execution_count": 367,
   "id": "64ee4dc4",
   "metadata": {},
   "outputs": [
    {
     "data": {
      "text/plain": [
       "array([[13]])"
      ]
     },
     "execution_count": 367,
     "metadata": {},
     "output_type": "execute_result"
    }
   ],
   "source": [
    "c[1,1:2,1:2]"
   ]
  },
  {
   "cell_type": "code",
   "execution_count": 368,
   "id": "892e1cf2",
   "metadata": {},
   "outputs": [
    {
     "data": {
      "text/plain": [
       "array([[12, 13, 14]])"
      ]
     },
     "execution_count": 368,
     "metadata": {},
     "output_type": "execute_result"
    }
   ],
   "source": [
    "c[1,1:2,:]"
   ]
  },
  {
   "cell_type": "code",
   "execution_count": 370,
   "id": "8c661d4e",
   "metadata": {},
   "outputs": [
    {
     "data": {
      "text/plain": [
       "array([[10, 11],\n",
       "       [13, 14],\n",
       "       [16, 17]])"
      ]
     },
     "execution_count": 370,
     "metadata": {},
     "output_type": "execute_result"
    }
   ],
   "source": [
    "c[1, : , 1:3]"
   ]
  },
  {
   "cell_type": "code",
   "execution_count": 373,
   "id": "ce49a567",
   "metadata": {},
   "outputs": [
    {
     "data": {
      "text/plain": [
       "array([[0],\n",
       "       [3],\n",
       "       [6]])"
      ]
     },
     "execution_count": 373,
     "metadata": {},
     "output_type": "execute_result"
    }
   ],
   "source": [
    "c[0, : , 0:1]"
   ]
  },
  {
   "cell_type": "code",
   "execution_count": 375,
   "id": "9a8f8af4",
   "metadata": {},
   "outputs": [
    {
     "data": {
      "text/plain": [
       "16"
      ]
     },
     "execution_count": 375,
     "metadata": {},
     "output_type": "execute_result"
    }
   ],
   "source": [
    "c[1,2,1]"
   ]
  },
  {
   "cell_type": "markdown",
   "id": "aeda37a4",
   "metadata": {},
   "source": [
    "---------------"
   ]
  },
  {
   "cell_type": "markdown",
   "id": "76c47a08",
   "metadata": {},
   "source": [
    "Any & All functions are built-in functions."
   ]
  },
  {
   "cell_type": "markdown",
   "id": "102f71f2",
   "metadata": {},
   "source": [
    "These functions works on comparision basis."
   ]
  },
  {
   "cell_type": "markdown",
   "id": "eb421044",
   "metadata": {},
   "source": [
    "Any function - It returns True, if any element satisfy the given condition. It uses logical OR operator."
   ]
  },
  {
   "cell_type": "markdown",
   "id": "54936edd",
   "metadata": {},
   "source": [
    "Syntax : np.any( condition )"
   ]
  },
  {
   "cell_type": "markdown",
   "id": "90f550ba",
   "metadata": {},
   "source": [
    "All function - It returns True, if all elements satisfy the given condition. It uses logical AND operator."
   ]
  },
  {
   "cell_type": "markdown",
   "id": "ed5e2e1c",
   "metadata": {},
   "source": [
    "Syntax : np.all( condition )"
   ]
  },
  {
   "cell_type": "code",
   "execution_count": 381,
   "id": "b6d2e723",
   "metadata": {},
   "outputs": [],
   "source": [
    "q = np.random.randint(10,1000,15)"
   ]
  },
  {
   "cell_type": "code",
   "execution_count": 382,
   "id": "af6691ba",
   "metadata": {},
   "outputs": [
    {
     "data": {
      "text/plain": [
       "array([ 32, 313, 307, 450,  12, 678, 974, 575,  50, 390,  27, 492, 121,\n",
       "        46, 688])"
      ]
     },
     "execution_count": 382,
     "metadata": {},
     "output_type": "execute_result"
    }
   ],
   "source": [
    "q"
   ]
  },
  {
   "cell_type": "code",
   "execution_count": 383,
   "id": "7320ae49",
   "metadata": {},
   "outputs": [
    {
     "data": {
      "text/plain": [
       "False"
      ]
     },
     "execution_count": 383,
     "metadata": {},
     "output_type": "execute_result"
    }
   ],
   "source": [
    "np.any(q == 500)"
   ]
  },
  {
   "cell_type": "code",
   "execution_count": 384,
   "id": "28297765",
   "metadata": {},
   "outputs": [
    {
     "data": {
      "text/plain": [
       "True"
      ]
     },
     "execution_count": 384,
     "metadata": {},
     "output_type": "execute_result"
    }
   ],
   "source": [
    "np.any(q == 307)"
   ]
  },
  {
   "cell_type": "code",
   "execution_count": 385,
   "id": "8555f198",
   "metadata": {},
   "outputs": [
    {
     "data": {
      "text/plain": [
       "True"
      ]
     },
     "execution_count": 385,
     "metadata": {},
     "output_type": "execute_result"
    }
   ],
   "source": [
    "np.any(q<100)"
   ]
  },
  {
   "cell_type": "code",
   "execution_count": 386,
   "id": "61f2075f",
   "metadata": {},
   "outputs": [
    {
     "data": {
      "text/plain": [
       "False"
      ]
     },
     "execution_count": 386,
     "metadata": {},
     "output_type": "execute_result"
    }
   ],
   "source": [
    "np.any(q>1000)"
   ]
  },
  {
   "cell_type": "code",
   "execution_count": 387,
   "id": "58eceaac",
   "metadata": {},
   "outputs": [
    {
     "data": {
      "text/plain": [
       "array([ 32, 313, 307, 450,  12, 678, 974, 575,  50, 390,  27, 492, 121,\n",
       "        46, 688])"
      ]
     },
     "execution_count": 387,
     "metadata": {},
     "output_type": "execute_result"
    }
   ],
   "source": [
    "q"
   ]
  },
  {
   "cell_type": "code",
   "execution_count": 388,
   "id": "794d7f0c",
   "metadata": {},
   "outputs": [
    {
     "data": {
      "text/plain": [
       "False"
      ]
     },
     "execution_count": 388,
     "metadata": {},
     "output_type": "execute_result"
    }
   ],
   "source": [
    "np.all(q==500)"
   ]
  },
  {
   "cell_type": "code",
   "execution_count": 389,
   "id": "0d3229ee",
   "metadata": {},
   "outputs": [
    {
     "data": {
      "text/plain": [
       "False"
      ]
     },
     "execution_count": 389,
     "metadata": {},
     "output_type": "execute_result"
    }
   ],
   "source": [
    "np.all(q<100)"
   ]
  },
  {
   "cell_type": "code",
   "execution_count": 390,
   "id": "72ab7db3",
   "metadata": {},
   "outputs": [
    {
     "data": {
      "text/plain": [
       "True"
      ]
     },
     "execution_count": 390,
     "metadata": {},
     "output_type": "execute_result"
    }
   ],
   "source": [
    "np.all(q<1000)"
   ]
  },
  {
   "cell_type": "code",
   "execution_count": 391,
   "id": "9811c13b",
   "metadata": {},
   "outputs": [
    {
     "data": {
      "text/plain": [
       "False"
      ]
     },
     "execution_count": 391,
     "metadata": {},
     "output_type": "execute_result"
    }
   ],
   "source": [
    "np.all(q<500)"
   ]
  },
  {
   "cell_type": "code",
   "execution_count": 392,
   "id": "8a2cd7e3",
   "metadata": {},
   "outputs": [
    {
     "name": "stdout",
     "output_type": "stream",
     "text": [
      "True\n"
     ]
    }
   ],
   "source": [
    "print(np.all(q<1000))"
   ]
  },
  {
   "cell_type": "code",
   "execution_count": null,
   "id": "008ed417",
   "metadata": {},
   "outputs": [],
   "source": []
  }
 ],
 "metadata": {
  "kernelspec": {
   "display_name": "Python 3 (ipykernel)",
   "language": "python",
   "name": "python3"
  },
  "language_info": {
   "codemirror_mode": {
    "name": "ipython",
    "version": 3
   },
   "file_extension": ".py",
   "mimetype": "text/x-python",
   "name": "python",
   "nbconvert_exporter": "python",
   "pygments_lexer": "ipython3",
   "version": "3.11.5"
  }
 },
 "nbformat": 4,
 "nbformat_minor": 5
}
